{
 "cells": [
  {
   "cell_type": "markdown",
   "id": "80ee6b5e-a00b-4103-8663-3738fc0d4a67",
   "metadata": {},
   "source": [
    "# 1. Data Preprocessing"
   ]
  },
  {
   "cell_type": "code",
   "execution_count": 1,
   "id": "52d570a9-581a-4cf4-9cf9-d0df073fbfab",
   "metadata": {},
   "outputs": [],
   "source": [
    "import pandas as pd\n",
    "import numpy as np\n",
    "import matplotlib.pyplot as plt\n",
    "import seaborn as sns"
   ]
  },
  {
   "cell_type": "code",
   "execution_count": 2,
   "id": "4c70092a-ebf1-439c-8878-80bc2fa698f4",
   "metadata": {},
   "outputs": [],
   "source": [
    "# import the data \n",
    "data = pd.read_csv(\"imdb_top_1000.csv\")"
   ]
  },
  {
   "cell_type": "code",
   "execution_count": 3,
   "id": "e0450f02-5684-4bde-ab9d-def12f997cd5",
   "metadata": {},
   "outputs": [
    {
     "data": {
      "text/html": [
       "<div>\n",
       "<style scoped>\n",
       "    .dataframe tbody tr th:only-of-type {\n",
       "        vertical-align: middle;\n",
       "    }\n",
       "\n",
       "    .dataframe tbody tr th {\n",
       "        vertical-align: top;\n",
       "    }\n",
       "\n",
       "    .dataframe thead th {\n",
       "        text-align: right;\n",
       "    }\n",
       "</style>\n",
       "<table border=\"1\" class=\"dataframe\">\n",
       "  <thead>\n",
       "    <tr style=\"text-align: right;\">\n",
       "      <th></th>\n",
       "      <th>Poster_Link</th>\n",
       "      <th>Series_Title</th>\n",
       "      <th>Released_Year</th>\n",
       "      <th>Certificate</th>\n",
       "      <th>Runtime</th>\n",
       "      <th>Genre</th>\n",
       "      <th>IMDB_Rating</th>\n",
       "      <th>Overview</th>\n",
       "      <th>Meta_score</th>\n",
       "      <th>Director</th>\n",
       "      <th>Star1</th>\n",
       "      <th>Star2</th>\n",
       "      <th>Star3</th>\n",
       "      <th>Star4</th>\n",
       "      <th>No_of_Votes</th>\n",
       "      <th>Gross</th>\n",
       "    </tr>\n",
       "  </thead>\n",
       "  <tbody>\n",
       "    <tr>\n",
       "      <th>0</th>\n",
       "      <td>https://m.media-amazon.com/images/M/MV5BMDFkYT...</td>\n",
       "      <td>The Shawshank Redemption</td>\n",
       "      <td>1994</td>\n",
       "      <td>A</td>\n",
       "      <td>142 min</td>\n",
       "      <td>Drama</td>\n",
       "      <td>9.3</td>\n",
       "      <td>Two imprisoned men bond over a number of years...</td>\n",
       "      <td>80.0</td>\n",
       "      <td>Frank Darabont</td>\n",
       "      <td>Tim Robbins</td>\n",
       "      <td>Morgan Freeman</td>\n",
       "      <td>Bob Gunton</td>\n",
       "      <td>William Sadler</td>\n",
       "      <td>2343110</td>\n",
       "      <td>28,341,469</td>\n",
       "    </tr>\n",
       "    <tr>\n",
       "      <th>1</th>\n",
       "      <td>https://m.media-amazon.com/images/M/MV5BM2MyNj...</td>\n",
       "      <td>The Godfather</td>\n",
       "      <td>1972</td>\n",
       "      <td>A</td>\n",
       "      <td>175 min</td>\n",
       "      <td>Crime, Drama</td>\n",
       "      <td>9.2</td>\n",
       "      <td>An organized crime dynasty's aging patriarch t...</td>\n",
       "      <td>100.0</td>\n",
       "      <td>Francis Ford Coppola</td>\n",
       "      <td>Marlon Brando</td>\n",
       "      <td>Al Pacino</td>\n",
       "      <td>James Caan</td>\n",
       "      <td>Diane Keaton</td>\n",
       "      <td>1620367</td>\n",
       "      <td>134,966,411</td>\n",
       "    </tr>\n",
       "    <tr>\n",
       "      <th>2</th>\n",
       "      <td>https://m.media-amazon.com/images/M/MV5BMTMxNT...</td>\n",
       "      <td>The Dark Knight</td>\n",
       "      <td>2008</td>\n",
       "      <td>UA</td>\n",
       "      <td>152 min</td>\n",
       "      <td>Action, Crime, Drama</td>\n",
       "      <td>9.0</td>\n",
       "      <td>When the menace known as the Joker wreaks havo...</td>\n",
       "      <td>84.0</td>\n",
       "      <td>Christopher Nolan</td>\n",
       "      <td>Christian Bale</td>\n",
       "      <td>Heath Ledger</td>\n",
       "      <td>Aaron Eckhart</td>\n",
       "      <td>Michael Caine</td>\n",
       "      <td>2303232</td>\n",
       "      <td>534,858,444</td>\n",
       "    </tr>\n",
       "  </tbody>\n",
       "</table>\n",
       "</div>"
      ],
      "text/plain": [
       "                                         Poster_Link  \\\n",
       "0  https://m.media-amazon.com/images/M/MV5BMDFkYT...   \n",
       "1  https://m.media-amazon.com/images/M/MV5BM2MyNj...   \n",
       "2  https://m.media-amazon.com/images/M/MV5BMTMxNT...   \n",
       "\n",
       "               Series_Title Released_Year Certificate  Runtime  \\\n",
       "0  The Shawshank Redemption          1994           A  142 min   \n",
       "1             The Godfather          1972           A  175 min   \n",
       "2           The Dark Knight          2008          UA  152 min   \n",
       "\n",
       "                  Genre  IMDB_Rating  \\\n",
       "0                 Drama          9.3   \n",
       "1          Crime, Drama          9.2   \n",
       "2  Action, Crime, Drama          9.0   \n",
       "\n",
       "                                            Overview  Meta_score  \\\n",
       "0  Two imprisoned men bond over a number of years...        80.0   \n",
       "1  An organized crime dynasty's aging patriarch t...       100.0   \n",
       "2  When the menace known as the Joker wreaks havo...        84.0   \n",
       "\n",
       "               Director           Star1           Star2          Star3  \\\n",
       "0        Frank Darabont     Tim Robbins  Morgan Freeman     Bob Gunton   \n",
       "1  Francis Ford Coppola   Marlon Brando       Al Pacino     James Caan   \n",
       "2     Christopher Nolan  Christian Bale    Heath Ledger  Aaron Eckhart   \n",
       "\n",
       "            Star4  No_of_Votes        Gross  \n",
       "0  William Sadler      2343110   28,341,469  \n",
       "1    Diane Keaton      1620367  134,966,411  \n",
       "2   Michael Caine      2303232  534,858,444  "
      ]
     },
     "execution_count": 3,
     "metadata": {},
     "output_type": "execute_result"
    }
   ],
   "source": [
    "# display the first 3 rows\n",
    "data.head(3)"
   ]
  },
  {
   "cell_type": "markdown",
   "id": "3ab171e9-e052-443d-b12c-c09804dcaa45",
   "metadata": {},
   "source": [
    "## Dropping irrelevant columns"
   ]
  },
  {
   "cell_type": "code",
   "execution_count": 4,
   "id": "cf006724-8bdb-459a-93f9-ad074966f7c2",
   "metadata": {},
   "outputs": [
    {
     "data": {
      "text/html": [
       "<div>\n",
       "<style scoped>\n",
       "    .dataframe tbody tr th:only-of-type {\n",
       "        vertical-align: middle;\n",
       "    }\n",
       "\n",
       "    .dataframe tbody tr th {\n",
       "        vertical-align: top;\n",
       "    }\n",
       "\n",
       "    .dataframe thead th {\n",
       "        text-align: right;\n",
       "    }\n",
       "</style>\n",
       "<table border=\"1\" class=\"dataframe\">\n",
       "  <thead>\n",
       "    <tr style=\"text-align: right;\">\n",
       "      <th></th>\n",
       "      <th>Series_Title</th>\n",
       "      <th>Released_Year</th>\n",
       "      <th>Certificate</th>\n",
       "      <th>Runtime</th>\n",
       "      <th>Genre</th>\n",
       "      <th>IMDB_Rating</th>\n",
       "      <th>Meta_score</th>\n",
       "      <th>Director</th>\n",
       "      <th>Star1</th>\n",
       "      <th>Star2</th>\n",
       "      <th>Star3</th>\n",
       "      <th>Star4</th>\n",
       "      <th>No_of_Votes</th>\n",
       "      <th>Gross</th>\n",
       "    </tr>\n",
       "  </thead>\n",
       "  <tbody>\n",
       "    <tr>\n",
       "      <th>0</th>\n",
       "      <td>The Shawshank Redemption</td>\n",
       "      <td>1994</td>\n",
       "      <td>A</td>\n",
       "      <td>142 min</td>\n",
       "      <td>Drama</td>\n",
       "      <td>9.3</td>\n",
       "      <td>80.0</td>\n",
       "      <td>Frank Darabont</td>\n",
       "      <td>Tim Robbins</td>\n",
       "      <td>Morgan Freeman</td>\n",
       "      <td>Bob Gunton</td>\n",
       "      <td>William Sadler</td>\n",
       "      <td>2343110</td>\n",
       "      <td>28,341,469</td>\n",
       "    </tr>\n",
       "    <tr>\n",
       "      <th>1</th>\n",
       "      <td>The Godfather</td>\n",
       "      <td>1972</td>\n",
       "      <td>A</td>\n",
       "      <td>175 min</td>\n",
       "      <td>Crime, Drama</td>\n",
       "      <td>9.2</td>\n",
       "      <td>100.0</td>\n",
       "      <td>Francis Ford Coppola</td>\n",
       "      <td>Marlon Brando</td>\n",
       "      <td>Al Pacino</td>\n",
       "      <td>James Caan</td>\n",
       "      <td>Diane Keaton</td>\n",
       "      <td>1620367</td>\n",
       "      <td>134,966,411</td>\n",
       "    </tr>\n",
       "    <tr>\n",
       "      <th>2</th>\n",
       "      <td>The Dark Knight</td>\n",
       "      <td>2008</td>\n",
       "      <td>UA</td>\n",
       "      <td>152 min</td>\n",
       "      <td>Action, Crime, Drama</td>\n",
       "      <td>9.0</td>\n",
       "      <td>84.0</td>\n",
       "      <td>Christopher Nolan</td>\n",
       "      <td>Christian Bale</td>\n",
       "      <td>Heath Ledger</td>\n",
       "      <td>Aaron Eckhart</td>\n",
       "      <td>Michael Caine</td>\n",
       "      <td>2303232</td>\n",
       "      <td>534,858,444</td>\n",
       "    </tr>\n",
       "  </tbody>\n",
       "</table>\n",
       "</div>"
      ],
      "text/plain": [
       "               Series_Title Released_Year Certificate  Runtime  \\\n",
       "0  The Shawshank Redemption          1994           A  142 min   \n",
       "1             The Godfather          1972           A  175 min   \n",
       "2           The Dark Knight          2008          UA  152 min   \n",
       "\n",
       "                  Genre  IMDB_Rating  Meta_score              Director  \\\n",
       "0                 Drama          9.3        80.0        Frank Darabont   \n",
       "1          Crime, Drama          9.2       100.0  Francis Ford Coppola   \n",
       "2  Action, Crime, Drama          9.0        84.0     Christopher Nolan   \n",
       "\n",
       "            Star1           Star2          Star3           Star4  No_of_Votes  \\\n",
       "0     Tim Robbins  Morgan Freeman     Bob Gunton  William Sadler      2343110   \n",
       "1   Marlon Brando       Al Pacino     James Caan    Diane Keaton      1620367   \n",
       "2  Christian Bale    Heath Ledger  Aaron Eckhart   Michael Caine      2303232   \n",
       "\n",
       "         Gross  \n",
       "0   28,341,469  \n",
       "1  134,966,411  \n",
       "2  534,858,444  "
      ]
     },
     "execution_count": 4,
     "metadata": {},
     "output_type": "execute_result"
    }
   ],
   "source": [
    "# Drop irrelevant columns\n",
    "data = data.drop(columns = ['Poster_Link', 'Overview'])\n",
    "data.head(3)"
   ]
  },
  {
   "cell_type": "markdown",
   "id": "8b358bb8-611c-496b-976f-c665af6f1146",
   "metadata": {},
   "source": [
    "## Handling duplicates"
   ]
  },
  {
   "cell_type": "code",
   "execution_count": 5,
   "id": "b90fa585-3b3b-4a24-ba2b-d61b2ecc0084",
   "metadata": {},
   "outputs": [
    {
     "data": {
      "text/plain": [
       "0"
      ]
     },
     "execution_count": 5,
     "metadata": {},
     "output_type": "execute_result"
    }
   ],
   "source": [
    "# Check for duplicates\n",
    "data.duplicated().sum()"
   ]
  },
  {
   "cell_type": "markdown",
   "id": "2b8e5494-4e18-4eef-8e5a-4d408df17fb6",
   "metadata": {},
   "source": [
    "## Handling nulls"
   ]
  },
  {
   "cell_type": "code",
   "execution_count": 6,
   "id": "d24f06a4-e361-48fb-a73a-4e2f4c3572b2",
   "metadata": {},
   "outputs": [
    {
     "data": {
      "text/plain": [
       "Series_Title       0\n",
       "Released_Year      0\n",
       "Certificate      101\n",
       "Runtime            0\n",
       "Genre              0\n",
       "IMDB_Rating        0\n",
       "Meta_score       157\n",
       "Director           0\n",
       "Star1              0\n",
       "Star2              0\n",
       "Star3              0\n",
       "Star4              0\n",
       "No_of_Votes        0\n",
       "Gross            169\n",
       "dtype: int64"
      ]
     },
     "execution_count": 6,
     "metadata": {},
     "output_type": "execute_result"
    }
   ],
   "source": [
    "# Check for null values\n",
    "data.isnull().sum()"
   ]
  },
  {
   "cell_type": "markdown",
   "id": "e6b2c796-9e59-417c-8e7c-76e6dbd76a0f",
   "metadata": {},
   "source": [
    "## Handling data Types"
   ]
  },
  {
   "cell_type": "code",
   "execution_count": 7,
   "id": "fa65fd0d-b87a-4d14-9c54-0ef3dae32070",
   "metadata": {},
   "outputs": [
    {
     "data": {
      "text/plain": [
       "Series_Title      object\n",
       "Released_Year     object\n",
       "Certificate       object\n",
       "Runtime           object\n",
       "Genre             object\n",
       "IMDB_Rating      float64\n",
       "Meta_score       float64\n",
       "Director          object\n",
       "Star1             object\n",
       "Star2             object\n",
       "Star3             object\n",
       "Star4             object\n",
       "No_of_Votes        int64\n",
       "Gross             object\n",
       "dtype: object"
      ]
     },
     "execution_count": 7,
     "metadata": {},
     "output_type": "execute_result"
    }
   ],
   "source": [
    "# check the data types\n",
    "data.dtypes"
   ]
  },
  {
   "cell_type": "code",
   "execution_count": 8,
   "id": "d0a01c0d-8bdc-4b73-8664-a0d40b02a8ad",
   "metadata": {},
   "outputs": [],
   "source": [
    "# Converting Gross column to float\n",
    "data['Gross'] = data['Gross'].str.replace(',', '').astype('float')"
   ]
  },
  {
   "cell_type": "code",
   "execution_count": 9,
   "id": "186bfdcb-4ac6-4cd9-b405-f31008732905",
   "metadata": {},
   "outputs": [],
   "source": [
    "# Converting Runtime column to int\n",
    "data['Runtime'] = data['Runtime'].str.replace('min', '').astype('int')"
   ]
  },
  {
   "cell_type": "code",
   "execution_count": 10,
   "id": "5350eb82-42ba-49be-a9e0-00828ee1db3e",
   "metadata": {},
   "outputs": [
    {
     "data": {
      "text/plain": [
       "array(['1994', '1972', '2008', '1974', '1957', '2003', '1993', '2010',\n",
       "       '1999', '2001', '1966', '2002', '1990', '1980', '1975', '2020',\n",
       "       '2019', '2014', '1998', '1997', '1995', '1991', '1977', '1962',\n",
       "       '1954', '1946', '2011', '2006', '2000', '1988', '1985', '1968',\n",
       "       '1960', '1942', '1936', '1931', '2018', '2017', '2016', '2012',\n",
       "       '2009', '2007', '1984', '1981', '1979', '1971', '1963', '1964',\n",
       "       '1950', '1940', '2013', '2005', '2004', '1992', '1987', '1986',\n",
       "       '1983', '1976', '1973', '1965', '1959', '1958', '1952', '1948',\n",
       "       '1944', '1941', '1927', '1921', '2015', '1996', '1989', '1978',\n",
       "       '1961', '1955', '1953', '1925', '1924', '1982', '1967', '1951',\n",
       "       '1949', '1939', '1937', '1934', '1928', '1926', '1920', '1970',\n",
       "       '1969', '1956', '1947', '1945', '1930', '1938', '1935', '1933',\n",
       "       '1932', '1922', '1943', 'PG'], dtype=object)"
      ]
     },
     "execution_count": 10,
     "metadata": {},
     "output_type": "execute_result"
    }
   ],
   "source": [
    "# Check distinct Release_Year\n",
    "data['Released_Year'].unique()"
   ]
  },
  {
   "cell_type": "code",
   "execution_count": 11,
   "id": "1593a86b-3083-4cc5-9bf8-475634a0fc41",
   "metadata": {},
   "outputs": [],
   "source": [
    "# Remove the row with PG as year\n",
    "data = data[data['Released_Year'] != 'PG']"
   ]
  },
  {
   "cell_type": "code",
   "execution_count": 12,
   "id": "c8b3e997-c5a7-4c1d-a2f7-a28b8e76565a",
   "metadata": {},
   "outputs": [],
   "source": [
    "# Convert Release_Year from object\n",
    "data['Released_Year'] = pd.to_datetime(data['Released_Year']).dt.year"
   ]
  },
  {
   "cell_type": "code",
   "execution_count": 13,
   "id": "ed21c592-eedc-4add-b251-29261401e6ed",
   "metadata": {},
   "outputs": [
    {
     "data": {
      "text/plain": [
       "Series_Title      object\n",
       "Released_Year      int32\n",
       "Certificate       object\n",
       "Runtime            int32\n",
       "Genre             object\n",
       "IMDB_Rating      float64\n",
       "Meta_score       float64\n",
       "Director          object\n",
       "Star1             object\n",
       "Star2             object\n",
       "Star3             object\n",
       "Star4             object\n",
       "No_of_Votes        int64\n",
       "Gross            float64\n",
       "dtype: object"
      ]
     },
     "execution_count": 13,
     "metadata": {},
     "output_type": "execute_result"
    }
   ],
   "source": [
    "# Confirming the data types\n",
    "data.dtypes"
   ]
  },
  {
   "cell_type": "markdown",
   "id": "88e502b5-406d-4335-bdd6-59853db97c98",
   "metadata": {},
   "source": [
    "## Addressing Inconsistent data"
   ]
  },
  {
   "cell_type": "code",
   "execution_count": 14,
   "id": "1c98df60-ffdd-4a7e-9e8d-db2346cc8f94",
   "metadata": {},
   "outputs": [],
   "source": [
    "# Removing white spaces in column Genre\n",
    "data[\"Genre\"] = data[\"Genre\"].str.strip()"
   ]
  },
  {
   "cell_type": "code",
   "execution_count": 15,
   "id": "c562da4a-9d64-4900-a38c-deebd8de3664",
   "metadata": {},
   "outputs": [],
   "source": [
    "# Removing white spaces in column Series_Title\n",
    "data[\"Series_Title\"] = data[\"Series_Title\"].str.strip()"
   ]
  },
  {
   "cell_type": "markdown",
   "id": "212161c2-6d62-41e2-b241-686b842d8319",
   "metadata": {},
   "source": [
    "## Saving the csv file"
   ]
  },
  {
   "cell_type": "code",
   "execution_count": 16,
   "id": "2d08fd5a-d64c-43e2-806e-1d20cf1fea09",
   "metadata": {},
   "outputs": [],
   "source": [
    "data.to_csv(\"imdb_top_1000_clean.csv\", index = False)"
   ]
  },
  {
   "cell_type": "markdown",
   "id": "bb225b78-3de0-4261-813a-5d7f3e48ab8f",
   "metadata": {},
   "source": [
    "# 2. Exploratory Data Analysis"
   ]
  },
  {
   "cell_type": "markdown",
   "id": "fe3c0542-950e-43c8-9ea4-6ba64554ecf1",
   "metadata": {},
   "source": [
    "## Summary statistics"
   ]
  },
  {
   "cell_type": "code",
   "execution_count": 17,
   "id": "53497a5a-b0bb-42d9-8ddf-bbd637267d9b",
   "metadata": {},
   "outputs": [
    {
     "data": {
      "text/html": [
       "<div>\n",
       "<style scoped>\n",
       "    .dataframe tbody tr th:only-of-type {\n",
       "        vertical-align: middle;\n",
       "    }\n",
       "\n",
       "    .dataframe tbody tr th {\n",
       "        vertical-align: top;\n",
       "    }\n",
       "\n",
       "    .dataframe thead th {\n",
       "        text-align: right;\n",
       "    }\n",
       "</style>\n",
       "<table border=\"1\" class=\"dataframe\">\n",
       "  <thead>\n",
       "    <tr style=\"text-align: right;\">\n",
       "      <th></th>\n",
       "      <th>count</th>\n",
       "      <th>mean</th>\n",
       "      <th>std</th>\n",
       "      <th>min</th>\n",
       "      <th>25%</th>\n",
       "      <th>50%</th>\n",
       "      <th>75%</th>\n",
       "      <th>max</th>\n",
       "    </tr>\n",
       "  </thead>\n",
       "  <tbody>\n",
       "    <tr>\n",
       "      <th>Released_Year</th>\n",
       "      <td>999.0</td>\n",
       "      <td>1.991217e+03</td>\n",
       "      <td>2.329702e+01</td>\n",
       "      <td>1920.0</td>\n",
       "      <td>1976.0</td>\n",
       "      <td>1999.0</td>\n",
       "      <td>2009.00</td>\n",
       "      <td>2020.0</td>\n",
       "    </tr>\n",
       "    <tr>\n",
       "      <th>Runtime</th>\n",
       "      <td>999.0</td>\n",
       "      <td>1.228739e+02</td>\n",
       "      <td>2.810252e+01</td>\n",
       "      <td>45.0</td>\n",
       "      <td>103.0</td>\n",
       "      <td>119.0</td>\n",
       "      <td>137.00</td>\n",
       "      <td>321.0</td>\n",
       "    </tr>\n",
       "    <tr>\n",
       "      <th>IMDB_Rating</th>\n",
       "      <td>999.0</td>\n",
       "      <td>7.949650e+00</td>\n",
       "      <td>2.754071e-01</td>\n",
       "      <td>7.6</td>\n",
       "      <td>7.7</td>\n",
       "      <td>7.9</td>\n",
       "      <td>8.10</td>\n",
       "      <td>9.3</td>\n",
       "    </tr>\n",
       "    <tr>\n",
       "      <th>Meta_score</th>\n",
       "      <td>842.0</td>\n",
       "      <td>7.797268e+01</td>\n",
       "      <td>1.238341e+01</td>\n",
       "      <td>28.0</td>\n",
       "      <td>70.0</td>\n",
       "      <td>79.0</td>\n",
       "      <td>87.00</td>\n",
       "      <td>100.0</td>\n",
       "    </tr>\n",
       "    <tr>\n",
       "      <th>No_of_Votes</th>\n",
       "      <td>999.0</td>\n",
       "      <td>2.736974e+05</td>\n",
       "      <td>3.275366e+05</td>\n",
       "      <td>25088.0</td>\n",
       "      <td>55471.5</td>\n",
       "      <td>138356.0</td>\n",
       "      <td>374477.50</td>\n",
       "      <td>2343110.0</td>\n",
       "    </tr>\n",
       "    <tr>\n",
       "      <th>Gross</th>\n",
       "      <td>830.0</td>\n",
       "      <td>6.790728e+07</td>\n",
       "      <td>1.097546e+08</td>\n",
       "      <td>1305.0</td>\n",
       "      <td>3245338.5</td>\n",
       "      <td>23457439.5</td>\n",
       "      <td>80103240.75</td>\n",
       "      <td>936662225.0</td>\n",
       "    </tr>\n",
       "  </tbody>\n",
       "</table>\n",
       "</div>"
      ],
      "text/plain": [
       "               count          mean           std      min        25%  \\\n",
       "Released_Year  999.0  1.991217e+03  2.329702e+01   1920.0     1976.0   \n",
       "Runtime        999.0  1.228739e+02  2.810252e+01     45.0      103.0   \n",
       "IMDB_Rating    999.0  7.949650e+00  2.754071e-01      7.6        7.7   \n",
       "Meta_score     842.0  7.797268e+01  1.238341e+01     28.0       70.0   \n",
       "No_of_Votes    999.0  2.736974e+05  3.275366e+05  25088.0    55471.5   \n",
       "Gross          830.0  6.790728e+07  1.097546e+08   1305.0  3245338.5   \n",
       "\n",
       "                      50%          75%          max  \n",
       "Released_Year      1999.0      2009.00       2020.0  \n",
       "Runtime             119.0       137.00        321.0  \n",
       "IMDB_Rating           7.9         8.10          9.3  \n",
       "Meta_score           79.0        87.00        100.0  \n",
       "No_of_Votes      138356.0    374477.50    2343110.0  \n",
       "Gross          23457439.5  80103240.75  936662225.0  "
      ]
     },
     "execution_count": 17,
     "metadata": {},
     "output_type": "execute_result"
    }
   ],
   "source": [
    "# Check summary statistics\n",
    "data.describe().T"
   ]
  },
  {
   "cell_type": "code",
   "execution_count": 18,
   "id": "b1a2ba01-c2de-44ef-8745-f77135655b04",
   "metadata": {},
   "outputs": [
    {
     "name": "stdout",
     "output_type": "stream",
     "text": [
      "<class 'pandas.core.frame.DataFrame'>\n",
      "Index: 999 entries, 0 to 999\n",
      "Data columns (total 14 columns):\n",
      " #   Column         Non-Null Count  Dtype  \n",
      "---  ------         --------------  -----  \n",
      " 0   Series_Title   999 non-null    object \n",
      " 1   Released_Year  999 non-null    int32  \n",
      " 2   Certificate    898 non-null    object \n",
      " 3   Runtime        999 non-null    int32  \n",
      " 4   Genre          999 non-null    object \n",
      " 5   IMDB_Rating    999 non-null    float64\n",
      " 6   Meta_score     842 non-null    float64\n",
      " 7   Director       999 non-null    object \n",
      " 8   Star1          999 non-null    object \n",
      " 9   Star2          999 non-null    object \n",
      " 10  Star3          999 non-null    object \n",
      " 11  Star4          999 non-null    object \n",
      " 12  No_of_Votes    999 non-null    int64  \n",
      " 13  Gross          830 non-null    float64\n",
      "dtypes: float64(3), int32(2), int64(1), object(8)\n",
      "memory usage: 109.3+ KB\n"
     ]
    }
   ],
   "source": [
    "data.info()"
   ]
  },
  {
   "cell_type": "code",
   "execution_count": 19,
   "id": "850c3668-5476-484f-a9ed-7d0798314c99",
   "metadata": {},
   "outputs": [
    {
     "data": {
      "text/plain": [
       "(999, 14)"
      ]
     },
     "execution_count": 19,
     "metadata": {},
     "output_type": "execute_result"
    }
   ],
   "source": [
    "data.shape"
   ]
  },
  {
   "cell_type": "markdown",
   "id": "7e0a5344-81c1-4809-8e01-83ea108a6401",
   "metadata": {},
   "source": [
    "## Genre Analysis"
   ]
  },
  {
   "cell_type": "markdown",
   "id": "7c46fb96-6dd5-4c97-94f7-5ac78f3453f6",
   "metadata": {},
   "source": [
    "### a. Movies Per Genres"
   ]
  },
  {
   "cell_type": "code",
   "execution_count": 20,
   "id": "555976fe-d05d-4a67-b172-fcb3126beff8",
   "metadata": {
    "scrolled": true
   },
   "outputs": [
    {
     "name": "stdout",
     "output_type": "stream",
     "text": [
      "['Biography', 'Western', 'Comedy', 'Animation', 'Music', 'Sport', 'Drama', 'Thriller', 'Musical', 'Mystery', 'Crime', 'Film-Noir', 'Sci-Fi', 'History', 'Fantasy', 'Family', 'Romance', 'Adventure', 'War', 'Action', 'Horror']\n"
     ]
    }
   ],
   "source": [
    "# check the unique genres\n",
    "\n",
    "# Split the genre column into a list of genres\n",
    "split_genres = data['Genre'].str.split(',')\n",
    "\n",
    "# Flatten the list of list into a single list of genres\n",
    "all_genres = [genre.strip() for sublist in split_genres for genre in sublist]\n",
    "\n",
    "# Get unique genres\n",
    "unique_genres = set(all_genres)\n",
    "\n",
    "# Convert the set back into a list\n",
    "unique_genres = list(unique_genres)\n",
    "print(unique_genres)"
   ]
  },
  {
   "cell_type": "code",
   "execution_count": 21,
   "id": "ccb7eead-f213-41e5-b057-7cff480bf901",
   "metadata": {},
   "outputs": [
    {
     "data": {
      "image/png": "[encoded data removed]",
      "text/plain": [
       "<Figure size 1000x600 with 1 Axes>"
      ]
     },
     "metadata": {},
     "output_type": "display_data"
    }
   ],
   "source": [
    "# Movie count per genre\n",
    "genre_counts = pd.Series(all_genres).value_counts().sort_values(ascending = True)\n",
    "\n",
    "# Visualize\n",
    "plt.figure(figsize=(10,6))\n",
    "bars = plt.barh(width=genre_counts.values,y=genre_counts.index, color = \"green\")\n",
    "for bar in bars:\n",
    "    xval = bar.get_width()\n",
    "    yval = bar.get_y() + bar.get_height() / 2\n",
    "    plt.text(xval + 0.01, yval, round(xval, 2), ha='left', va='center')\n",
    "plt.title(\"Number of Movies per Genre\")\n",
    "plt.ylabel(\"Genre\")\n",
    "plt.show()"
   ]
  },
  {
   "cell_type": "markdown",
   "id": "61e6c015-d4d0-4106-87ff-f48eff4489da",
   "metadata": {},
   "source": [
    "### b. Ratings by Genre"
   ]
  },
  {
   "cell_type": "code",
   "execution_count": 22,
   "id": "290be6e6-dc3d-4432-b52a-20f2041822f3",
   "metadata": {},
   "outputs": [],
   "source": [
    "# Duplicate data and save it in data2\n",
    "data2 = data"
   ]
  },
  {
   "cell_type": "code",
   "execution_count": 23,
   "id": "c51fc294-ae60-4463-b26a-9b1e26e7af81",
   "metadata": {},
   "outputs": [],
   "source": [
    "# Split genre into separate rows\n",
    "data2[\"Genre\"] = data2[\"Genre\"].str.split(',')\n",
    "data2 = data2.explode(\"Genre\")"
   ]
  },
  {
   "cell_type": "code",
   "execution_count": 24,
   "id": "c2b505d7-cd39-412f-a66b-99d3d4623a52",
   "metadata": {},
   "outputs": [],
   "source": [
    "# Removing the white spaces on column Genre\n",
    "data2[\"Genre\"] = data2[\"Genre\"].str.strip()"
   ]
  },
  {
   "cell_type": "code",
   "execution_count": 25,
   "id": "0942e167-1b64-40b3-afd0-fd579fb9fd5c",
   "metadata": {},
   "outputs": [
    {
     "data": {
      "text/plain": [
       "Genre\n",
       "War          8.013725\n",
       "Western      8.000000\n",
       "Film-Noir    7.989474\n",
       "Sci-Fi       7.977612\n",
       "Mystery      7.967677\n",
       "History      7.960000\n",
       "Drama        7.959889\n",
       "Crime        7.954545\n",
       "Adventure    7.953846\n",
       "Action       7.948677\n",
       "Musical      7.947059\n",
       "Biography    7.935780\n",
       "Fantasy      7.931818\n",
       "Animation    7.930488\n",
       "Sport        7.926316\n",
       "Romance      7.925600\n",
       "Music        7.914286\n",
       "Family       7.912500\n",
       "Thriller     7.909489\n",
       "Comedy       7.903433\n",
       "Horror       7.887500\n",
       "Name: IMDB_Rating, dtype: float64"
      ]
     },
     "execution_count": 25,
     "metadata": {},
     "output_type": "execute_result"
    }
   ],
   "source": [
    "# Group by genre and calculate the mean rating\n",
    "genre_rating = data2.groupby(\"Genre\").mean(numeric_only = True)['IMDB_Rating'].sort_values(ascending = False)\n",
    "genre_rating"
   ]
  },
  {
   "cell_type": "markdown",
   "id": "8b5c32dd-199c-4944-9dab-47a56b17ffd7",
   "metadata": {},
   "source": [
    "### c. No of Votes by Genre"
   ]
  },
  {
   "cell_type": "code",
   "execution_count": 26,
   "id": "4396209e-4ff1-4433-ae6e-196586212a49",
   "metadata": {},
   "outputs": [],
   "source": [
    "genre_votes = data2.groupby(\"Genre\").mean(numeric_only = True)['No_of_Votes'].round().sort_values(ascending = False)"
   ]
  },
  {
   "cell_type": "code",
   "execution_count": 27,
   "id": "f57aa71e-9671-4c79-9059-b8be78b0b51e",
   "metadata": {},
   "outputs": [
    {
     "data": {
      "image/png": "[encoded data removed]",
      "text/plain": [
       "<Figure size 1000x600 with 1 Axes>"
      ]
     },
     "metadata": {},
     "output_type": "display_data"
    }
   ],
   "source": [
    "# Visualize\n",
    "plt.figure(figsize=(10,6))\n",
    "bars = plt.bar(x=genre_votes.index, height=genre_votes.values, color = \"green\")\n",
    "for bar in bars:\n",
    "    yval = bar.get_height()\n",
    "    plt.text(bar.get_x() + bar.get_width() / 2, yval + 0.01, round(yval, 2), ha='center', va='top', rotation = 90)\n",
    "plt.title(\"Number of votes per Genre\")\n",
    "plt.ylabel(\"Votes\")\n",
    "plt.xlabel(\"Genre\")\n",
    "plt.xticks(rotation = 90)\n",
    "plt.show()"
   ]
  },
  {
   "cell_type": "markdown",
   "id": "65a00d0a-5678-4d26-a731-4b23614e362f",
   "metadata": {},
   "source": [
    "### By Gross"
   ]
  },
  {
   "cell_type": "code",
   "execution_count": 28,
   "id": "7cf2b701-c0fd-4a65-b4fd-c2388561fbb0",
   "metadata": {},
   "outputs": [
    {
     "data": {
      "text/html": [
       "<div>\n",
       "<style scoped>\n",
       "    .dataframe tbody tr th:only-of-type {\n",
       "        vertical-align: middle;\n",
       "    }\n",
       "\n",
       "    .dataframe tbody tr th {\n",
       "        vertical-align: top;\n",
       "    }\n",
       "\n",
       "    .dataframe thead th {\n",
       "        text-align: right;\n",
       "    }\n",
       "</style>\n",
       "<table border=\"1\" class=\"dataframe\">\n",
       "  <thead>\n",
       "    <tr style=\"text-align: right;\">\n",
       "      <th></th>\n",
       "      <th>Genre</th>\n",
       "      <th>Gross</th>\n",
       "    </tr>\n",
       "  </thead>\n",
       "  <tbody>\n",
       "    <tr>\n",
       "      <th>0</th>\n",
       "      <td>Adventure</td>\n",
       "      <td>28,000,479,436.00</td>\n",
       "    </tr>\n",
       "    <tr>\n",
       "      <th>1</th>\n",
       "      <td>Drama</td>\n",
       "      <td>27,323,784,696.00</td>\n",
       "    </tr>\n",
       "    <tr>\n",
       "      <th>2</th>\n",
       "      <td>Action</td>\n",
       "      <td>22,033,328,131.00</td>\n",
       "    </tr>\n",
       "    <tr>\n",
       "      <th>3</th>\n",
       "      <td>Comedy</td>\n",
       "      <td>12,247,931,579.00</td>\n",
       "    </tr>\n",
       "    <tr>\n",
       "      <th>4</th>\n",
       "      <td>Sci-Fi</td>\n",
       "      <td>9,029,610,220.00</td>\n",
       "    </tr>\n",
       "    <tr>\n",
       "      <th>5</th>\n",
       "      <td>Animation</td>\n",
       "      <td>8,573,824,407.00</td>\n",
       "    </tr>\n",
       "    <tr>\n",
       "      <th>6</th>\n",
       "      <td>Crime</td>\n",
       "      <td>6,956,303,927.00</td>\n",
       "    </tr>\n",
       "    <tr>\n",
       "      <th>7</th>\n",
       "      <td>Thriller</td>\n",
       "      <td>6,454,428,931.00</td>\n",
       "    </tr>\n",
       "    <tr>\n",
       "      <th>8</th>\n",
       "      <td>Fantasy</td>\n",
       "      <td>6,082,543,147.00</td>\n",
       "    </tr>\n",
       "    <tr>\n",
       "      <th>9</th>\n",
       "      <td>Biography</td>\n",
       "      <td>5,304,577,796.00</td>\n",
       "    </tr>\n",
       "  </tbody>\n",
       "</table>\n",
       "</div>"
      ],
      "text/plain": [
       "       Genre              Gross\n",
       "0  Adventure  28,000,479,436.00\n",
       "1      Drama  27,323,784,696.00\n",
       "2     Action  22,033,328,131.00\n",
       "3     Comedy  12,247,931,579.00\n",
       "4     Sci-Fi   9,029,610,220.00\n",
       "5  Animation   8,573,824,407.00\n",
       "6      Crime   6,956,303,927.00\n",
       "7   Thriller   6,454,428,931.00\n",
       "8    Fantasy   6,082,543,147.00\n",
       "9  Biography   5,304,577,796.00"
      ]
     },
     "execution_count": 28,
     "metadata": {},
     "output_type": "execute_result"
    }
   ],
   "source": [
    "# Top 10 Genres by Gross\n",
    "genre_gross = data2.groupby('Genre').sum()[\"Gross\"].sort_values(ascending = False).head(10)\n",
    "\n",
    "# Convert the series into a dataframe\n",
    "genre_gross_df = genre_gross.reset_index()\n",
    "\n",
    "# Format the gross column to be readable\n",
    "genre_gross_df[\"Gross\"] = genre_gross_df[\"Gross\"].apply(lambda x: f\"{x:,.2f}\")\n",
    "\n",
    "# Display the df\n",
    "genre_gross_df"
   ]
  },
  {
   "cell_type": "markdown",
   "id": "ff32d947-cbc6-434c-ba5a-aa6902386fb9",
   "metadata": {},
   "source": [
    "## Saving data2 as csv file"
   ]
  },
  {
   "cell_type": "code",
   "execution_count": 29,
   "id": "fb4ceeae-8fb4-4996-9a6f-945826868a4f",
   "metadata": {},
   "outputs": [],
   "source": [
    "data2.to_csv(\"imdb_data_clean.csv\")"
   ]
  },
  {
   "cell_type": "markdown",
   "id": "a90ae716-8559-4789-a663-8a94bc763670",
   "metadata": {},
   "source": [
    "##  Director Analysis"
   ]
  },
  {
   "cell_type": "markdown",
   "id": "07079a12-0a82-4462-9d8f-22ac58e008d9",
   "metadata": {},
   "source": [
    "### a. By movies"
   ]
  },
  {
   "cell_type": "code",
   "execution_count": 30,
   "id": "f11581b3-d6b6-4cd9-ab9a-46a9e458c501",
   "metadata": {},
   "outputs": [
    {
     "data": {
      "text/html": [
       "<div>\n",
       "<style scoped>\n",
       "    .dataframe tbody tr th:only-of-type {\n",
       "        vertical-align: middle;\n",
       "    }\n",
       "\n",
       "    .dataframe tbody tr th {\n",
       "        vertical-align: top;\n",
       "    }\n",
       "\n",
       "    .dataframe thead th {\n",
       "        text-align: right;\n",
       "    }\n",
       "</style>\n",
       "<table border=\"1\" class=\"dataframe\">\n",
       "  <thead>\n",
       "    <tr style=\"text-align: right;\">\n",
       "      <th></th>\n",
       "      <th>Director</th>\n",
       "      <th>Series_Title</th>\n",
       "    </tr>\n",
       "  </thead>\n",
       "  <tbody>\n",
       "    <tr>\n",
       "      <th>0</th>\n",
       "      <td>Alfred Hitchcock</td>\n",
       "      <td>14</td>\n",
       "    </tr>\n",
       "    <tr>\n",
       "      <th>1</th>\n",
       "      <td>Steven Spielberg</td>\n",
       "      <td>13</td>\n",
       "    </tr>\n",
       "    <tr>\n",
       "      <th>2</th>\n",
       "      <td>Hayao Miyazaki</td>\n",
       "      <td>11</td>\n",
       "    </tr>\n",
       "    <tr>\n",
       "      <th>3</th>\n",
       "      <td>Martin Scorsese</td>\n",
       "      <td>10</td>\n",
       "    </tr>\n",
       "    <tr>\n",
       "      <th>4</th>\n",
       "      <td>Akira Kurosawa</td>\n",
       "      <td>10</td>\n",
       "    </tr>\n",
       "    <tr>\n",
       "      <th>5</th>\n",
       "      <td>Stanley Kubrick</td>\n",
       "      <td>9</td>\n",
       "    </tr>\n",
       "    <tr>\n",
       "      <th>6</th>\n",
       "      <td>Woody Allen</td>\n",
       "      <td>9</td>\n",
       "    </tr>\n",
       "    <tr>\n",
       "      <th>7</th>\n",
       "      <td>Billy Wilder</td>\n",
       "      <td>9</td>\n",
       "    </tr>\n",
       "    <tr>\n",
       "      <th>8</th>\n",
       "      <td>Quentin Tarantino</td>\n",
       "      <td>8</td>\n",
       "    </tr>\n",
       "    <tr>\n",
       "      <th>9</th>\n",
       "      <td>Christopher Nolan</td>\n",
       "      <td>8</td>\n",
       "    </tr>\n",
       "  </tbody>\n",
       "</table>\n",
       "</div>"
      ],
      "text/plain": [
       "            Director  Series_Title\n",
       "0   Alfred Hitchcock            14\n",
       "1   Steven Spielberg            13\n",
       "2     Hayao Miyazaki            11\n",
       "3    Martin Scorsese            10\n",
       "4     Akira Kurosawa            10\n",
       "5    Stanley Kubrick             9\n",
       "6        Woody Allen             9\n",
       "7       Billy Wilder             9\n",
       "8  Quentin Tarantino             8\n",
       "9  Christopher Nolan             8"
      ]
     },
     "execution_count": 30,
     "metadata": {},
     "output_type": "execute_result"
    }
   ],
   "source": [
    "# Top 10 directors by number of movies\n",
    "director_count = data.groupby(\"Director\").count()[\"Series_Title\"].sort_values(ascending = False).head(10)\n",
    "\n",
    "# Convert the Series to a df\n",
    "director_count_df = director_count.reset_index()\n",
    "\n",
    "# Displaay the data frame\n",
    "director_count_df"
   ]
  },
  {
   "cell_type": "markdown",
   "id": "5693f478-24b2-4690-9e94-4b97c4ae0b67",
   "metadata": {},
   "source": [
    "### b. By Gross"
   ]
  },
  {
   "cell_type": "code",
   "execution_count": 31,
   "id": "c4c3b7b5-f6e2-42de-a929-e0023607a067",
   "metadata": {},
   "outputs": [
    {
     "data": {
      "text/html": [
       "<div>\n",
       "<style scoped>\n",
       "    .dataframe tbody tr th:only-of-type {\n",
       "        vertical-align: middle;\n",
       "    }\n",
       "\n",
       "    .dataframe tbody tr th {\n",
       "        vertical-align: top;\n",
       "    }\n",
       "\n",
       "    .dataframe thead th {\n",
       "        text-align: right;\n",
       "    }\n",
       "</style>\n",
       "<table border=\"1\" class=\"dataframe\">\n",
       "  <thead>\n",
       "    <tr style=\"text-align: right;\">\n",
       "      <th></th>\n",
       "      <th>Director</th>\n",
       "      <th>Gross</th>\n",
       "    </tr>\n",
       "  </thead>\n",
       "  <tbody>\n",
       "    <tr>\n",
       "      <th>0</th>\n",
       "      <td>Anthony Russo</td>\n",
       "      <td>551,259,850.75</td>\n",
       "    </tr>\n",
       "    <tr>\n",
       "      <th>1</th>\n",
       "      <td>Gareth Edwards</td>\n",
       "      <td>532,177,324.00</td>\n",
       "    </tr>\n",
       "    <tr>\n",
       "      <th>2</th>\n",
       "      <td>J.J. Abrams</td>\n",
       "      <td>474,390,301.67</td>\n",
       "    </tr>\n",
       "    <tr>\n",
       "      <th>3</th>\n",
       "      <td>Josh Cooley</td>\n",
       "      <td>434,038,008.00</td>\n",
       "    </tr>\n",
       "    <tr>\n",
       "      <th>4</th>\n",
       "      <td>Roger Allers</td>\n",
       "      <td>422,783,777.00</td>\n",
       "    </tr>\n",
       "    <tr>\n",
       "      <th>5</th>\n",
       "      <td>Tim Miller</td>\n",
       "      <td>363,070,709.00</td>\n",
       "    </tr>\n",
       "    <tr>\n",
       "      <th>6</th>\n",
       "      <td>James Gunn</td>\n",
       "      <td>361,494,850.50</td>\n",
       "    </tr>\n",
       "    <tr>\n",
       "      <th>7</th>\n",
       "      <td>James Cameron</td>\n",
       "      <td>349,647,320.40</td>\n",
       "    </tr>\n",
       "    <tr>\n",
       "      <th>8</th>\n",
       "      <td>Byron Howard</td>\n",
       "      <td>341,268,248.00</td>\n",
       "    </tr>\n",
       "    <tr>\n",
       "      <th>9</th>\n",
       "      <td>David Yates</td>\n",
       "      <td>326,317,907.00</td>\n",
       "    </tr>\n",
       "  </tbody>\n",
       "</table>\n",
       "</div>"
      ],
      "text/plain": [
       "         Director           Gross\n",
       "0   Anthony Russo  551,259,850.75\n",
       "1  Gareth Edwards  532,177,324.00\n",
       "2     J.J. Abrams  474,390,301.67\n",
       "3     Josh Cooley  434,038,008.00\n",
       "4    Roger Allers  422,783,777.00\n",
       "5      Tim Miller  363,070,709.00\n",
       "6      James Gunn  361,494,850.50\n",
       "7   James Cameron  349,647,320.40\n",
       "8    Byron Howard  341,268,248.00\n",
       "9     David Yates  326,317,907.00"
      ]
     },
     "execution_count": 31,
     "metadata": {},
     "output_type": "execute_result"
    }
   ],
   "source": [
    "# Top 10 directors by mean Gross\n",
    "director_count = data.groupby(\"Director\").mean(numeric_only = True)[\"Gross\"].sort_values(ascending = False).head(10)\n",
    "\n",
    "# Convert the series to a df for better readability\n",
    "director_count_df = director_count.reset_index()\n",
    "\n",
    "# Format the gross column to read the numbers in a more readable format\n",
    "director_count_df[\"Gross\"] = director_count_df[\"Gross\"].apply(lambda x: f\"{x:,.2f}\")\n",
    "\n",
    "# Display the top 20 directors with their mean Gross\n",
    "director_count_df"
   ]
  },
  {
   "cell_type": "markdown",
   "id": "485208ad-0175-401d-94a1-45c7165247a9",
   "metadata": {},
   "source": [
    "### c. By Rating"
   ]
  },
  {
   "cell_type": "code",
   "execution_count": 32,
   "id": "e1caa77f-8aaa-4194-8d19-9cc597ae6d8f",
   "metadata": {},
   "outputs": [
    {
     "data": {
      "text/html": [
       "<div>\n",
       "<style scoped>\n",
       "    .dataframe tbody tr th:only-of-type {\n",
       "        vertical-align: middle;\n",
       "    }\n",
       "\n",
       "    .dataframe tbody tr th {\n",
       "        vertical-align: top;\n",
       "    }\n",
       "\n",
       "    .dataframe thead th {\n",
       "        text-align: right;\n",
       "    }\n",
       "</style>\n",
       "<table border=\"1\" class=\"dataframe\">\n",
       "  <thead>\n",
       "    <tr style=\"text-align: right;\">\n",
       "      <th></th>\n",
       "      <th>Director</th>\n",
       "      <th>IMDB_Rating</th>\n",
       "    </tr>\n",
       "  </thead>\n",
       "  <tbody>\n",
       "    <tr>\n",
       "      <th>0</th>\n",
       "      <td>Frank Darabont</td>\n",
       "      <td>8.95</td>\n",
       "    </tr>\n",
       "    <tr>\n",
       "      <th>1</th>\n",
       "      <td>Irvin Kershner</td>\n",
       "      <td>8.70</td>\n",
       "    </tr>\n",
       "    <tr>\n",
       "      <th>2</th>\n",
       "      <td>Lana Wachowski</td>\n",
       "      <td>8.70</td>\n",
       "    </tr>\n",
       "    <tr>\n",
       "      <th>3</th>\n",
       "      <td>George Lucas</td>\n",
       "      <td>8.60</td>\n",
       "    </tr>\n",
       "    <tr>\n",
       "      <th>4</th>\n",
       "      <td>Roberto Benigni</td>\n",
       "      <td>8.60</td>\n",
       "    </tr>\n",
       "    <tr>\n",
       "      <th>5</th>\n",
       "      <td>Masaki Kobayashi</td>\n",
       "      <td>8.60</td>\n",
       "    </tr>\n",
       "    <tr>\n",
       "      <th>6</th>\n",
       "      <td>Thomas Kail</td>\n",
       "      <td>8.60</td>\n",
       "    </tr>\n",
       "    <tr>\n",
       "      <th>7</th>\n",
       "      <td>Sudha Kongara</td>\n",
       "      <td>8.60</td>\n",
       "    </tr>\n",
       "    <tr>\n",
       "      <th>8</th>\n",
       "      <td>Fernando Meirelles</td>\n",
       "      <td>8.60</td>\n",
       "    </tr>\n",
       "    <tr>\n",
       "      <th>9</th>\n",
       "      <td>Roger Allers</td>\n",
       "      <td>8.50</td>\n",
       "    </tr>\n",
       "  </tbody>\n",
       "</table>\n",
       "</div>"
      ],
      "text/plain": [
       "             Director  IMDB_Rating\n",
       "0      Frank Darabont         8.95\n",
       "1      Irvin Kershner         8.70\n",
       "2      Lana Wachowski         8.70\n",
       "3        George Lucas         8.60\n",
       "4     Roberto Benigni         8.60\n",
       "5    Masaki Kobayashi         8.60\n",
       "6         Thomas Kail         8.60\n",
       "7       Sudha Kongara         8.60\n",
       "8  Fernando Meirelles         8.60\n",
       "9        Roger Allers         8.50"
      ]
     },
     "execution_count": 32,
     "metadata": {},
     "output_type": "execute_result"
    }
   ],
   "source": [
    "# Top 10 directors by rating\n",
    "director_rating = data.groupby(\"Director\").mean(numeric_only =  True)[\"IMDB_Rating\"].sort_values(ascending = False).head(10)\n",
    "\n",
    "# Convert the series to a df\n",
    "director_rating_df = director_rating.reset_index()\n",
    "\n",
    "# Display the data frame\n",
    "director_rating_df"
   ]
  },
  {
   "cell_type": "markdown",
   "id": "c08bb784-7943-4f20-b77f-31bb4eac0136",
   "metadata": {},
   "source": [
    "### d. By Meta_score"
   ]
  },
  {
   "cell_type": "code",
   "execution_count": 33,
   "id": "11c9aa1c-ca8b-4a17-b46c-7cbdb8969a4d",
   "metadata": {},
   "outputs": [
    {
     "data": {
      "text/html": [
       "<div>\n",
       "<style scoped>\n",
       "    .dataframe tbody tr th:only-of-type {\n",
       "        vertical-align: middle;\n",
       "    }\n",
       "\n",
       "    .dataframe tbody tr th {\n",
       "        vertical-align: top;\n",
       "    }\n",
       "\n",
       "    .dataframe thead th {\n",
       "        text-align: right;\n",
       "    }\n",
       "</style>\n",
       "<table border=\"1\" class=\"dataframe\">\n",
       "  <thead>\n",
       "    <tr style=\"text-align: right;\">\n",
       "      <th></th>\n",
       "      <th>Director</th>\n",
       "      <th>Meta_score</th>\n",
       "    </tr>\n",
       "  </thead>\n",
       "  <tbody>\n",
       "    <tr>\n",
       "      <th>0</th>\n",
       "      <td>Orson Welles</td>\n",
       "      <td>99.5</td>\n",
       "    </tr>\n",
       "    <tr>\n",
       "      <th>1</th>\n",
       "      <td>Charles Laughton</td>\n",
       "      <td>99.0</td>\n",
       "    </tr>\n",
       "    <tr>\n",
       "      <th>2</th>\n",
       "      <td>Michael Curtiz</td>\n",
       "      <td>98.5</td>\n",
       "    </tr>\n",
       "    <tr>\n",
       "      <th>3</th>\n",
       "      <td>Joseph L. Mankiewicz</td>\n",
       "      <td>98.0</td>\n",
       "    </tr>\n",
       "    <tr>\n",
       "      <th>4</th>\n",
       "      <td>Guillermo del Toro</td>\n",
       "      <td>98.0</td>\n",
       "    </tr>\n",
       "    <tr>\n",
       "      <th>5</th>\n",
       "      <td>Fritz Lang</td>\n",
       "      <td>98.0</td>\n",
       "    </tr>\n",
       "    <tr>\n",
       "      <th>6</th>\n",
       "      <td>Cristian Mungiu</td>\n",
       "      <td>97.0</td>\n",
       "    </tr>\n",
       "    <tr>\n",
       "      <th>7</th>\n",
       "      <td>Sergei M. Eisenstein</td>\n",
       "      <td>97.0</td>\n",
       "    </tr>\n",
       "    <tr>\n",
       "      <th>8</th>\n",
       "      <td>Sam Peckinpah</td>\n",
       "      <td>97.0</td>\n",
       "    </tr>\n",
       "    <tr>\n",
       "      <th>9</th>\n",
       "      <td>Jules Dassin</td>\n",
       "      <td>97.0</td>\n",
       "    </tr>\n",
       "  </tbody>\n",
       "</table>\n",
       "</div>"
      ],
      "text/plain": [
       "               Director  Meta_score\n",
       "0          Orson Welles        99.5\n",
       "1      Charles Laughton        99.0\n",
       "2        Michael Curtiz        98.5\n",
       "3  Joseph L. Mankiewicz        98.0\n",
       "4    Guillermo del Toro        98.0\n",
       "5            Fritz Lang        98.0\n",
       "6       Cristian Mungiu        97.0\n",
       "7  Sergei M. Eisenstein        97.0\n",
       "8         Sam Peckinpah        97.0\n",
       "9          Jules Dassin        97.0"
      ]
     },
     "execution_count": 33,
     "metadata": {},
     "output_type": "execute_result"
    }
   ],
   "source": [
    "# Top 10 directors by meta_score\n",
    "director_score = data.groupby(\"Director\").mean(numeric_only =  True)[\"Meta_score\"].sort_values(ascending = False).head(10)\n",
    "\n",
    "# Convert the series to a df\n",
    "director_score_df = director_score.reset_index()\n",
    "\n",
    "# Display the data frame\n",
    "director_score_df"
   ]
  },
  {
   "cell_type": "markdown",
   "id": "2f66efb5-82ba-454c-a9be-820e1fd45977",
   "metadata": {},
   "source": [
    "### e. By Runtime"
   ]
  },
  {
   "cell_type": "code",
   "execution_count": 34,
   "id": "946c2a7f-c4b3-4b86-8f48-f5cc0954784d",
   "metadata": {},
   "outputs": [
    {
     "data": {
      "text/html": [
       "<div>\n",
       "<style scoped>\n",
       "    .dataframe tbody tr th:only-of-type {\n",
       "        vertical-align: middle;\n",
       "    }\n",
       "\n",
       "    .dataframe tbody tr th {\n",
       "        vertical-align: top;\n",
       "    }\n",
       "\n",
       "    .dataframe thead th {\n",
       "        text-align: right;\n",
       "    }\n",
       "</style>\n",
       "<table border=\"1\" class=\"dataframe\">\n",
       "  <thead>\n",
       "    <tr style=\"text-align: right;\">\n",
       "      <th></th>\n",
       "      <th>Director</th>\n",
       "      <th>Runtime</th>\n",
       "    </tr>\n",
       "  </thead>\n",
       "  <tbody>\n",
       "    <tr>\n",
       "      <th>0</th>\n",
       "      <td>Kenneth Branagh</td>\n",
       "      <td>242.0</td>\n",
       "    </tr>\n",
       "    <tr>\n",
       "      <th>1</th>\n",
       "      <td>Anurag Kashyap</td>\n",
       "      <td>232.5</td>\n",
       "    </tr>\n",
       "    <tr>\n",
       "      <th>2</th>\n",
       "      <td>Cecil B. DeMille</td>\n",
       "      <td>220.0</td>\n",
       "    </tr>\n",
       "    <tr>\n",
       "      <th>3</th>\n",
       "      <td>Ashutosh Gowariker</td>\n",
       "      <td>217.0</td>\n",
       "    </tr>\n",
       "    <tr>\n",
       "      <th>4</th>\n",
       "      <td>Ramesh Sippy</td>\n",
       "      <td>204.0</td>\n",
       "    </tr>\n",
       "    <tr>\n",
       "      <th>5</th>\n",
       "      <td>George Stevens</td>\n",
       "      <td>201.0</td>\n",
       "    </tr>\n",
       "    <tr>\n",
       "      <th>6</th>\n",
       "      <td>Philip Kaufman</td>\n",
       "      <td>193.0</td>\n",
       "    </tr>\n",
       "    <tr>\n",
       "      <th>7</th>\n",
       "      <td>Yash Chopra</td>\n",
       "      <td>192.0</td>\n",
       "    </tr>\n",
       "    <tr>\n",
       "      <th>8</th>\n",
       "      <td>Richard Attenborough</td>\n",
       "      <td>191.0</td>\n",
       "    </tr>\n",
       "    <tr>\n",
       "      <th>9</th>\n",
       "      <td>Aditya Chopra</td>\n",
       "      <td>189.0</td>\n",
       "    </tr>\n",
       "  </tbody>\n",
       "</table>\n",
       "</div>"
      ],
      "text/plain": [
       "               Director  Runtime\n",
       "0       Kenneth Branagh    242.0\n",
       "1        Anurag Kashyap    232.5\n",
       "2      Cecil B. DeMille    220.0\n",
       "3    Ashutosh Gowariker    217.0\n",
       "4          Ramesh Sippy    204.0\n",
       "5        George Stevens    201.0\n",
       "6        Philip Kaufman    193.0\n",
       "7           Yash Chopra    192.0\n",
       "8  Richard Attenborough    191.0\n",
       "9         Aditya Chopra    189.0"
      ]
     },
     "execution_count": 34,
     "metadata": {},
     "output_type": "execute_result"
    }
   ],
   "source": [
    "# Top 10 directors by Runtime\n",
    "director_time = data.groupby(\"Director\").mean(numeric_only =  True)[\"Runtime\"].sort_values(ascending = False).head(10)\n",
    "\n",
    "# Convert the series to a df\n",
    "director_time_df = director_time.reset_index()\n",
    "\n",
    "# Display the data frame\n",
    "director_time_df"
   ]
  },
  {
   "cell_type": "markdown",
   "id": "17f43fd2-0ffb-4870-acb4-e4f226f22ccc",
   "metadata": {},
   "source": [
    "## Star Analysis"
   ]
  },
  {
   "cell_type": "code",
   "execution_count": 35,
   "id": "f539fb44-2894-4601-a2b7-3aa37a13c643",
   "metadata": {},
   "outputs": [],
   "source": [
    "# Melt the data frame to combine star column into a single column\n",
    "data_melted = pd.melt(data, id_vars = ['Series_Title', 'Released_Year', 'Runtime', 'Genre', 'IMDB_Rating', 'Meta_score', 'Director', 'No_of_Votes',\n",
    "                                   'Gross'], value_vars = ['Star1', 'Star2', 'Star3', 'Star4'],var_name = 'original_position',value_name = 'Star')"
   ]
  },
  {
   "cell_type": "code",
   "execution_count": 46,
   "id": "9de8ecda-e6ad-4f22-8518-aa35d21d2fcb",
   "metadata": {},
   "outputs": [
    {
     "data": {
      "text/html": [
       "<div>\n",
       "<style scoped>\n",
       "    .dataframe tbody tr th:only-of-type {\n",
       "        vertical-align: middle;\n",
       "    }\n",
       "\n",
       "    .dataframe tbody tr th {\n",
       "        vertical-align: top;\n",
       "    }\n",
       "\n",
       "    .dataframe thead th {\n",
       "        text-align: right;\n",
       "    }\n",
       "</style>\n",
       "<table border=\"1\" class=\"dataframe\">\n",
       "  <thead>\n",
       "    <tr style=\"text-align: right;\">\n",
       "      <th></th>\n",
       "      <th>Series_Title</th>\n",
       "      <th>Released_Year</th>\n",
       "      <th>Runtime</th>\n",
       "      <th>Genre</th>\n",
       "      <th>IMDB_Rating</th>\n",
       "      <th>Meta_score</th>\n",
       "      <th>Director</th>\n",
       "      <th>No_of_Votes</th>\n",
       "      <th>Gross</th>\n",
       "      <th>original_position</th>\n",
       "      <th>Star</th>\n",
       "    </tr>\n",
       "  </thead>\n",
       "  <tbody>\n",
       "    <tr>\n",
       "      <th>0</th>\n",
       "      <td>The Shawshank Redemption</td>\n",
       "      <td>1994</td>\n",
       "      <td>142</td>\n",
       "      <td>[Drama]</td>\n",
       "      <td>9.3</td>\n",
       "      <td>80.0</td>\n",
       "      <td>Frank Darabont</td>\n",
       "      <td>2343110</td>\n",
       "      <td>28341469.0</td>\n",
       "      <td>Star1</td>\n",
       "      <td>Tim Robbins</td>\n",
       "    </tr>\n",
       "    <tr>\n",
       "      <th>1</th>\n",
       "      <td>The Godfather</td>\n",
       "      <td>1972</td>\n",
       "      <td>175</td>\n",
       "      <td>[Crime,  Drama]</td>\n",
       "      <td>9.2</td>\n",
       "      <td>100.0</td>\n",
       "      <td>Francis Ford Coppola</td>\n",
       "      <td>1620367</td>\n",
       "      <td>134966411.0</td>\n",
       "      <td>Star1</td>\n",
       "      <td>Marlon Brando</td>\n",
       "    </tr>\n",
       "    <tr>\n",
       "      <th>2</th>\n",
       "      <td>The Dark Knight</td>\n",
       "      <td>2008</td>\n",
       "      <td>152</td>\n",
       "      <td>[Action,  Crime,  Drama]</td>\n",
       "      <td>9.0</td>\n",
       "      <td>84.0</td>\n",
       "      <td>Christopher Nolan</td>\n",
       "      <td>2303232</td>\n",
       "      <td>534858444.0</td>\n",
       "      <td>Star1</td>\n",
       "      <td>Christian Bale</td>\n",
       "    </tr>\n",
       "    <tr>\n",
       "      <th>3</th>\n",
       "      <td>The Godfather: Part II</td>\n",
       "      <td>1974</td>\n",
       "      <td>202</td>\n",
       "      <td>[Crime,  Drama]</td>\n",
       "      <td>9.0</td>\n",
       "      <td>90.0</td>\n",
       "      <td>Francis Ford Coppola</td>\n",
       "      <td>1129952</td>\n",
       "      <td>57300000.0</td>\n",
       "      <td>Star1</td>\n",
       "      <td>Al Pacino</td>\n",
       "    </tr>\n",
       "    <tr>\n",
       "      <th>4</th>\n",
       "      <td>12 Angry Men</td>\n",
       "      <td>1957</td>\n",
       "      <td>96</td>\n",
       "      <td>[Crime,  Drama]</td>\n",
       "      <td>9.0</td>\n",
       "      <td>96.0</td>\n",
       "      <td>Sidney Lumet</td>\n",
       "      <td>689845</td>\n",
       "      <td>4360000.0</td>\n",
       "      <td>Star1</td>\n",
       "      <td>Henry Fonda</td>\n",
       "    </tr>\n",
       "  </tbody>\n",
       "</table>\n",
       "</div>"
      ],
      "text/plain": [
       "               Series_Title  Released_Year  Runtime                     Genre  \\\n",
       "0  The Shawshank Redemption           1994      142                   [Drama]   \n",
       "1             The Godfather           1972      175           [Crime,  Drama]   \n",
       "2           The Dark Knight           2008      152  [Action,  Crime,  Drama]   \n",
       "3    The Godfather: Part II           1974      202           [Crime,  Drama]   \n",
       "4              12 Angry Men           1957       96           [Crime,  Drama]   \n",
       "\n",
       "   IMDB_Rating  Meta_score              Director  No_of_Votes        Gross  \\\n",
       "0          9.3        80.0        Frank Darabont      2343110   28341469.0   \n",
       "1          9.2       100.0  Francis Ford Coppola      1620367  134966411.0   \n",
       "2          9.0        84.0     Christopher Nolan      2303232  534858444.0   \n",
       "3          9.0        90.0  Francis Ford Coppola      1129952   57300000.0   \n",
       "4          9.0        96.0          Sidney Lumet       689845    4360000.0   \n",
       "\n",
       "  original_position            Star  \n",
       "0             Star1     Tim Robbins  \n",
       "1             Star1   Marlon Brando  \n",
       "2             Star1  Christian Bale  \n",
       "3             Star1       Al Pacino  \n",
       "4             Star1     Henry Fonda  "
      ]
     },
     "execution_count": 46,
     "metadata": {},
     "output_type": "execute_result"
    }
   ],
   "source": [
    "# Display first 5 rows\n",
    "data_melted.head()"
   ]
  },
  {
   "cell_type": "markdown",
   "id": "56541ff3-ad9b-4a0c-ad35-a0e45f097788",
   "metadata": {},
   "source": [
    "### a. By Gross"
   ]
  },
  {
   "cell_type": "code",
   "execution_count": 47,
   "id": "1ddbe6f2-2e5d-412e-abf7-e9e41b02ec1e",
   "metadata": {},
   "outputs": [
    {
     "data": {
      "text/html": [
       "<div>\n",
       "<style scoped>\n",
       "    .dataframe tbody tr th:only-of-type {\n",
       "        vertical-align: middle;\n",
       "    }\n",
       "\n",
       "    .dataframe tbody tr th {\n",
       "        vertical-align: top;\n",
       "    }\n",
       "\n",
       "    .dataframe thead th {\n",
       "        text-align: right;\n",
       "    }\n",
       "</style>\n",
       "<table border=\"1\" class=\"dataframe\">\n",
       "  <thead>\n",
       "    <tr style=\"text-align: right;\">\n",
       "      <th></th>\n",
       "      <th>Star</th>\n",
       "      <th>Gross</th>\n",
       "    </tr>\n",
       "  </thead>\n",
       "  <tbody>\n",
       "    <tr>\n",
       "      <th>0</th>\n",
       "      <td>Daisy Ridley</td>\n",
       "      <td>936,662,225.00</td>\n",
       "    </tr>\n",
       "    <tr>\n",
       "      <th>1</th>\n",
       "      <td>John Boyega</td>\n",
       "      <td>936,662,225.00</td>\n",
       "    </tr>\n",
       "    <tr>\n",
       "      <th>2</th>\n",
       "      <td>Michelle Rodriguez</td>\n",
       "      <td>760,507,625.00</td>\n",
       "    </tr>\n",
       "    <tr>\n",
       "      <th>3</th>\n",
       "      <td>Billy Zane</td>\n",
       "      <td>659,325,379.00</td>\n",
       "    </tr>\n",
       "    <tr>\n",
       "      <th>4</th>\n",
       "      <td>Huck Milner</td>\n",
       "      <td>608,581,744.00</td>\n",
       "    </tr>\n",
       "    <tr>\n",
       "      <th>5</th>\n",
       "      <td>Sarah Vowell</td>\n",
       "      <td>608,581,744.00</td>\n",
       "    </tr>\n",
       "    <tr>\n",
       "      <th>6</th>\n",
       "      <td>Joe Russo</td>\n",
       "      <td>551,259,850.75</td>\n",
       "    </tr>\n",
       "    <tr>\n",
       "      <th>7</th>\n",
       "      <td>Aaron Eckhart</td>\n",
       "      <td>534,858,444.00</td>\n",
       "    </tr>\n",
       "    <tr>\n",
       "      <th>8</th>\n",
       "      <td>Donnie Yen</td>\n",
       "      <td>532,177,324.00</td>\n",
       "    </tr>\n",
       "    <tr>\n",
       "      <th>9</th>\n",
       "      <td>Diego Luna</td>\n",
       "      <td>532,177,324.00</td>\n",
       "    </tr>\n",
       "  </tbody>\n",
       "</table>\n",
       "</div>"
      ],
      "text/plain": [
       "                 Star           Gross\n",
       "0        Daisy Ridley  936,662,225.00\n",
       "1         John Boyega  936,662,225.00\n",
       "2  Michelle Rodriguez  760,507,625.00\n",
       "3          Billy Zane  659,325,379.00\n",
       "4         Huck Milner  608,581,744.00\n",
       "5        Sarah Vowell  608,581,744.00\n",
       "6           Joe Russo  551,259,850.75\n",
       "7       Aaron Eckhart  534,858,444.00\n",
       "8          Donnie Yen  532,177,324.00\n",
       "9          Diego Luna  532,177,324.00"
      ]
     },
     "execution_count": 47,
     "metadata": {},
     "output_type": "execute_result"
    }
   ],
   "source": [
    "# Top 10 stars by Gross\n",
    "star_gross = data_melted.groupby('Star').mean(numeric_only = True)[\"Gross\"].sort_values(ascending = False).head(10)\n",
    "\n",
    "# Convert the series into a dataframe\n",
    "star_gross_df = star_gross.reset_index()\n",
    "\n",
    "# Format the gross column to be readable\n",
    "star_gross_df[\"Gross\"] = star_gross_df[\"Gross\"].apply(lambda x: f\"{x:,.2f}\")\n",
    "\n",
    "# Display the df\n",
    "star_gross_df"
   ]
  },
  {
   "cell_type": "code",
   "execution_count": null,
   "id": "cc019c70-d481-4a94-a7aa-804c2f0238c3",
   "metadata": {},
   "outputs": [],
   "source": [
    "# Visualize\n",
    "plt.figure(figsize=(10,6))\n",
    "bars = plt.bar(x=star_gross.index, height=star_gross.values, color = \"green\")\n",
    "for bar in bars:\n",
    "    yval = bar.get_height()\n",
    "    plt.text(bar.get_x() + bar.get_width() / 2, yval + 0.01, round(yval, 2), ha='center', va='top', rotation = 90)\n",
    "plt.title(\"Number of votes per Genre\")\n",
    "plt.ylabel(\"Gross\")\n",
    "plt.xlabel(\"Stars\")\n",
    "plt.xticks(rotation = 90)\n",
    "plt.show()"
   ]
  },
  {
   "cell_type": "markdown",
   "id": "f98f4038-8de3-4675-8b73-630a3d5c0522",
   "metadata": {},
   "source": [
    "### b. By Rating"
   ]
  },
  {
   "cell_type": "code",
   "execution_count": null,
   "id": "4f9f721a-ee6f-4a83-bf8f-c26e18ce69d3",
   "metadata": {},
   "outputs": [],
   "source": [
    "# Top 10 stars by IMDB_Rating\n",
    "star_rating = data_melted.groupby('Star').mean(numeric_only = True)[\"IMDB_Rating\"].sort_values(ascending = False).head(10)\n",
    "\n",
    "# Convert the series into a dataframe\n",
    "star_rating_df = star_rating.reset_index()\n",
    "\n",
    "# Display the df\n",
    "star_rating_df"
   ]
  },
  {
   "cell_type": "markdown",
   "id": "5e3fb9b9-ac7d-4e2d-915b-8638e6fb6e8c",
   "metadata": {},
   "source": [
    "### c. Combination of stars(Gross, IMBD_Rating)"
   ]
  },
  {
   "cell_type": "code",
   "execution_count": null,
   "id": "29d49df7-2ed7-4dff-bcf6-cea7fb97a047",
   "metadata": {},
   "outputs": [],
   "source": [
    "# Create a duplicate dataframe\n",
    "data3 = data"
   ]
  },
  {
   "cell_type": "code",
   "execution_count": null,
   "id": "ed111058-f732-48e1-a51b-1d749e54900a",
   "metadata": {},
   "outputs": [],
   "source": [
    "# Create a column for the group of stars\n",
    "data3['Stars'] = data3[['Star1', 'Star2', 'Star3', 'Star4']].apply(lambda x: ','.join(sorted(x.dropna())), axis = 1)\n",
    "data3.head(3)"
   ]
  },
  {
   "cell_type": "markdown",
   "id": "9dc149ee-b397-47d3-b0da-1ce1ce72ef18",
   "metadata": {},
   "source": [
    "### By Grosss"
   ]
  },
  {
   "cell_type": "code",
   "execution_count": null,
   "id": "591a0607-ecde-4b21-8821-bdddb9353ca3",
   "metadata": {},
   "outputs": [],
   "source": [
    "# Group by Stars\n",
    "stars_gross = data3.groupby('Stars').mean(numeric_only = True)['Gross'].sort_values(ascending = False).head(10)\n",
    "\n",
    "# Convert to a df\n",
    "stars_gross_df = stars_gross.reset_index()\n",
    "\n",
    "# Set the display option for max_colwidth to None\n",
    "pd.set_option('display.max_colwidth', None)\n",
    "\n",
    "# Display the df\n",
    "stars_gross_df"
   ]
  },
  {
   "cell_type": "markdown",
   "id": "3e7baede-a29b-4b4b-b29d-912cbdf50728",
   "metadata": {},
   "source": [
    "### By IMDB Rating"
   ]
  },
  {
   "cell_type": "code",
   "execution_count": null,
   "id": "453dce09-084d-453e-8927-d68212c9518c",
   "metadata": {},
   "outputs": [],
   "source": [
    "# Group by Stars\n",
    "stars_rating = data3.groupby('Stars').mean(numeric_only = True)['IMDB_Rating'].sort_values(ascending = False).head(10)\n",
    "\n",
    "# Convert to a df\n",
    "stars_rating_df = stars_rating.reset_index()\n",
    "\n",
    "# Set the display option for max_colwidth to None\n",
    "pd.set_option('display.max_colwidth', None)\n",
    "\n",
    "# Display the df\n",
    "stars_rating_df"
   ]
  },
  {
   "cell_type": "markdown",
   "id": "e84648f2-8707-488a-8346-463acc78810d",
   "metadata": {},
   "source": [
    "## Certificate Analysis"
   ]
  },
  {
   "cell_type": "code",
   "execution_count": null,
   "id": "9e9c11a8-378c-4118-b97f-d94f53a9e800",
   "metadata": {},
   "outputs": [],
   "source": [
    "# Display unique certifocate\n",
    "data[\"Certificate\"].unique()"
   ]
  },
  {
   "cell_type": "markdown",
   "id": "eb73f03a-a24f-472b-a2f9-8db9f6f96d92",
   "metadata": {},
   "source": [
    "### a. By Gross"
   ]
  },
  {
   "cell_type": "code",
   "execution_count": 56,
   "id": "7b559147-d648-4d62-91d0-a95140eb72f9",
   "metadata": {},
   "outputs": [
    {
     "data": {
      "text/html": [
       "<div>\n",
       "<style scoped>\n",
       "    .dataframe tbody tr th:only-of-type {\n",
       "        vertical-align: middle;\n",
       "    }\n",
       "\n",
       "    .dataframe tbody tr th {\n",
       "        vertical-align: top;\n",
       "    }\n",
       "\n",
       "    .dataframe thead th {\n",
       "        text-align: right;\n",
       "    }\n",
       "</style>\n",
       "<table border=\"1\" class=\"dataframe\">\n",
       "  <thead>\n",
       "    <tr style=\"text-align: right;\">\n",
       "      <th></th>\n",
       "      <th>Certificate</th>\n",
       "      <th>Gross</th>\n",
       "    </tr>\n",
       "  </thead>\n",
       "  <tbody>\n",
       "    <tr>\n",
       "      <th>0</th>\n",
       "      <td>TV-PG</td>\n",
       "      <td>106,662.00</td>\n",
       "    </tr>\n",
       "    <tr>\n",
       "      <th>1</th>\n",
       "      <td>Unrated</td>\n",
       "      <td>300,000.00</td>\n",
       "    </tr>\n",
       "    <tr>\n",
       "      <th>2</th>\n",
       "      <td>GP</td>\n",
       "      <td>708,958.00</td>\n",
       "    </tr>\n",
       "    <tr>\n",
       "      <th>3</th>\n",
       "      <td>Passed</td>\n",
       "      <td>5,435,553.74</td>\n",
       "    </tr>\n",
       "    <tr>\n",
       "      <th>4</th>\n",
       "      <td>Approved</td>\n",
       "      <td>6,949,014.00</td>\n",
       "    </tr>\n",
       "    <tr>\n",
       "      <th>5</th>\n",
       "      <td>PG</td>\n",
       "      <td>17,888,273.29</td>\n",
       "    </tr>\n",
       "    <tr>\n",
       "      <th>6</th>\n",
       "      <td>R</td>\n",
       "      <td>25,793,599.39</td>\n",
       "    </tr>\n",
       "    <tr>\n",
       "      <th>7</th>\n",
       "      <td>U/A</td>\n",
       "      <td>26,020,957.00</td>\n",
       "    </tr>\n",
       "    <tr>\n",
       "      <th>8</th>\n",
       "      <td>PG-13</td>\n",
       "      <td>36,947,857.08</td>\n",
       "    </tr>\n",
       "    <tr>\n",
       "      <th>9</th>\n",
       "      <td>G</td>\n",
       "      <td>49,596,325.70</td>\n",
       "    </tr>\n",
       "    <tr>\n",
       "      <th>10</th>\n",
       "      <td>A</td>\n",
       "      <td>63,887,132.82</td>\n",
       "    </tr>\n",
       "    <tr>\n",
       "      <th>11</th>\n",
       "      <td>U</td>\n",
       "      <td>86,811,448.22</td>\n",
       "    </tr>\n",
       "    <tr>\n",
       "      <th>12</th>\n",
       "      <td>UA</td>\n",
       "      <td>131,145,954.52</td>\n",
       "    </tr>\n",
       "  </tbody>\n",
       "</table>\n",
       "</div>"
      ],
      "text/plain": [
       "   Certificate            Gross\n",
       "0        TV-PG       106,662.00\n",
       "1      Unrated       300,000.00\n",
       "2           GP       708,958.00\n",
       "3       Passed     5,435,553.74\n",
       "4     Approved     6,949,014.00\n",
       "5           PG    17,888,273.29\n",
       "6            R    25,793,599.39\n",
       "7          U/A    26,020,957.00\n",
       "8        PG-13    36,947,857.08\n",
       "9            G    49,596,325.70\n",
       "10           A    63,887,132.82\n",
       "11           U    86,811,448.22\n",
       "12          UA   131,145,954.52"
      ]
     },
     "execution_count": 56,
     "metadata": {},
     "output_type": "execute_result"
    }
   ],
   "source": [
    "# Group by Certificate\n",
    "certificate_gross = data.groupby(\"Certificate\").mean(numeric_only = True)['Gross'].sort_values(ascending = True)\n",
    "\n",
    "# Convert the series to a df\n",
    "certificate_gross_df = certificate_gross.reset_index()\n",
    "\n",
    "# Drop nulls\n",
    "certificate_gross_df = certificate_gross_df.dropna()\n",
    "\n",
    "# Format the Gross column for readability\n",
    "certificate_gross_df[\"Gross\"] = certificate_gross_df[\"Gross\"].apply(lambda x: f\"{x: ,.2f}\")\n",
    "\n",
    "# Display the df\n",
    "certificate_gross_df"
   ]
  },
  {
   "cell_type": "markdown",
   "id": "65170153-2287-425c-b9a3-d65103a36934",
   "metadata": {},
   "source": [
    "### b. By IMDB Rating"
   ]
  },
  {
   "cell_type": "code",
   "execution_count": 61,
   "id": "e5e11133-660f-4dd6-a7fe-843ec643fe50",
   "metadata": {},
   "outputs": [
    {
     "data": {
      "text/html": [
       "<div>\n",
       "<style scoped>\n",
       "    .dataframe tbody tr th:only-of-type {\n",
       "        vertical-align: middle;\n",
       "    }\n",
       "\n",
       "    .dataframe tbody tr th {\n",
       "        vertical-align: top;\n",
       "    }\n",
       "\n",
       "    .dataframe thead th {\n",
       "        text-align: right;\n",
       "    }\n",
       "</style>\n",
       "<table border=\"1\" class=\"dataframe\">\n",
       "  <thead>\n",
       "    <tr style=\"text-align: right;\">\n",
       "      <th></th>\n",
       "      <th>Certificate</th>\n",
       "      <th>IMDB_Rating</th>\n",
       "    </tr>\n",
       "  </thead>\n",
       "  <tbody>\n",
       "    <tr>\n",
       "      <th>0</th>\n",
       "      <td>TV-14</td>\n",
       "      <td>8.300000</td>\n",
       "    </tr>\n",
       "    <tr>\n",
       "      <th>1</th>\n",
       "      <td>16</td>\n",
       "      <td>8.100000</td>\n",
       "    </tr>\n",
       "    <tr>\n",
       "      <th>2</th>\n",
       "      <td>TV-MA</td>\n",
       "      <td>8.100000</td>\n",
       "    </tr>\n",
       "    <tr>\n",
       "      <th>3</th>\n",
       "      <td>Unrated</td>\n",
       "      <td>8.100000</td>\n",
       "    </tr>\n",
       "    <tr>\n",
       "      <th>4</th>\n",
       "      <td>Passed</td>\n",
       "      <td>8.020588</td>\n",
       "    </tr>\n",
       "    <tr>\n",
       "      <th>5</th>\n",
       "      <td>G</td>\n",
       "      <td>8.000000</td>\n",
       "    </tr>\n",
       "    <tr>\n",
       "      <th>6</th>\n",
       "      <td>A</td>\n",
       "      <td>7.998985</td>\n",
       "    </tr>\n",
       "    <tr>\n",
       "      <th>7</th>\n",
       "      <td>U</td>\n",
       "      <td>7.978541</td>\n",
       "    </tr>\n",
       "    <tr>\n",
       "      <th>8</th>\n",
       "      <td>UA</td>\n",
       "      <td>7.957143</td>\n",
       "    </tr>\n",
       "    <tr>\n",
       "      <th>9</th>\n",
       "      <td>Approved</td>\n",
       "      <td>7.945455</td>\n",
       "    </tr>\n",
       "    <tr>\n",
       "      <th>10</th>\n",
       "      <td>PG</td>\n",
       "      <td>7.927027</td>\n",
       "    </tr>\n",
       "    <tr>\n",
       "      <th>11</th>\n",
       "      <td>TV-PG</td>\n",
       "      <td>7.900000</td>\n",
       "    </tr>\n",
       "    <tr>\n",
       "      <th>12</th>\n",
       "      <td>R</td>\n",
       "      <td>7.869863</td>\n",
       "    </tr>\n",
       "    <tr>\n",
       "      <th>13</th>\n",
       "      <td>GP</td>\n",
       "      <td>7.850000</td>\n",
       "    </tr>\n",
       "    <tr>\n",
       "      <th>14</th>\n",
       "      <td>PG-13</td>\n",
       "      <td>7.797674</td>\n",
       "    </tr>\n",
       "    <tr>\n",
       "      <th>15</th>\n",
       "      <td>U/A</td>\n",
       "      <td>7.600000</td>\n",
       "    </tr>\n",
       "  </tbody>\n",
       "</table>\n",
       "</div>"
      ],
      "text/plain": [
       "   Certificate  IMDB_Rating\n",
       "0        TV-14     8.300000\n",
       "1           16     8.100000\n",
       "2        TV-MA     8.100000\n",
       "3      Unrated     8.100000\n",
       "4       Passed     8.020588\n",
       "5            G     8.000000\n",
       "6            A     7.998985\n",
       "7            U     7.978541\n",
       "8           UA     7.957143\n",
       "9     Approved     7.945455\n",
       "10          PG     7.927027\n",
       "11       TV-PG     7.900000\n",
       "12           R     7.869863\n",
       "13          GP     7.850000\n",
       "14       PG-13     7.797674\n",
       "15         U/A     7.600000"
      ]
     },
     "execution_count": 61,
     "metadata": {},
     "output_type": "execute_result"
    }
   ],
   "source": [
    "# Group by Certificate\n",
    "certificate_rating = data.groupby(\"Certificate\").mean(numeric_only = True)[\"IMDB_Rating\"].sort_values(ascending = False)\n",
    "\n",
    "# Convert the Series to a df\n",
    "certificate_rating_df = certificate_rating.reset_index()\n",
    "\n",
    "# Display the df\n",
    "certificate_rating_df"
   ]
  },
  {
   "cell_type": "markdown",
   "id": "5b65fd9c-c730-4e90-a2e7-f48dc0611f13",
   "metadata": {},
   "source": [
    "### c. By No_of_Votes"
   ]
  },
  {
   "cell_type": "code",
   "execution_count": 64,
   "id": "1cf70f2a-88d9-41e5-b781-97f7dfe08bcd",
   "metadata": {},
   "outputs": [
    {
     "data": {
      "text/html": [
       "<div>\n",
       "<style scoped>\n",
       "    .dataframe tbody tr th:only-of-type {\n",
       "        vertical-align: middle;\n",
       "    }\n",
       "\n",
       "    .dataframe tbody tr th {\n",
       "        vertical-align: top;\n",
       "    }\n",
       "\n",
       "    .dataframe thead th {\n",
       "        text-align: right;\n",
       "    }\n",
       "</style>\n",
       "<table border=\"1\" class=\"dataframe\">\n",
       "  <thead>\n",
       "    <tr style=\"text-align: right;\">\n",
       "      <th></th>\n",
       "      <th>Certificate</th>\n",
       "      <th>No_of_Votes</th>\n",
       "    </tr>\n",
       "  </thead>\n",
       "  <tbody>\n",
       "    <tr>\n",
       "      <th>0</th>\n",
       "      <td>UA</td>\n",
       "      <td>439,033.0</td>\n",
       "    </tr>\n",
       "    <tr>\n",
       "      <th>1</th>\n",
       "      <td>A</td>\n",
       "      <td>428,215.0</td>\n",
       "    </tr>\n",
       "    <tr>\n",
       "      <th>2</th>\n",
       "      <td>U</td>\n",
       "      <td>256,050.0</td>\n",
       "    </tr>\n",
       "    <tr>\n",
       "      <th>3</th>\n",
       "      <td>R</td>\n",
       "      <td>212,992.0</td>\n",
       "    </tr>\n",
       "    <tr>\n",
       "      <th>4</th>\n",
       "      <td>PG-13</td>\n",
       "      <td>144,102.0</td>\n",
       "    </tr>\n",
       "    <tr>\n",
       "      <th>5</th>\n",
       "      <td>TV-MA</td>\n",
       "      <td>141,516.0</td>\n",
       "    </tr>\n",
       "    <tr>\n",
       "      <th>6</th>\n",
       "      <td>U/A</td>\n",
       "      <td>140,840.0</td>\n",
       "    </tr>\n",
       "    <tr>\n",
       "      <th>7</th>\n",
       "      <td>G</td>\n",
       "      <td>134,312.0</td>\n",
       "    </tr>\n",
       "    <tr>\n",
       "      <th>8</th>\n",
       "      <td>PG</td>\n",
       "      <td>101,581.0</td>\n",
       "    </tr>\n",
       "    <tr>\n",
       "      <th>9</th>\n",
       "      <td>Passed</td>\n",
       "      <td>73,523.0</td>\n",
       "    </tr>\n",
       "    <tr>\n",
       "      <th>10</th>\n",
       "      <td>Approved</td>\n",
       "      <td>71,680.0</td>\n",
       "    </tr>\n",
       "    <tr>\n",
       "      <th>11</th>\n",
       "      <td>Unrated</td>\n",
       "      <td>66,803.0</td>\n",
       "    </tr>\n",
       "    <tr>\n",
       "      <th>12</th>\n",
       "      <td>16</td>\n",
       "      <td>47,708.0</td>\n",
       "    </tr>\n",
       "    <tr>\n",
       "      <th>13</th>\n",
       "      <td>GP</td>\n",
       "      <td>45,386.0</td>\n",
       "    </tr>\n",
       "    <tr>\n",
       "      <th>14</th>\n",
       "      <td>TV-PG</td>\n",
       "      <td>34,376.0</td>\n",
       "    </tr>\n",
       "    <tr>\n",
       "      <th>15</th>\n",
       "      <td>TV-14</td>\n",
       "      <td>33,935.0</td>\n",
       "    </tr>\n",
       "  </tbody>\n",
       "</table>\n",
       "</div>"
      ],
      "text/plain": [
       "   Certificate No_of_Votes\n",
       "0           UA   439,033.0\n",
       "1            A   428,215.0\n",
       "2            U   256,050.0\n",
       "3            R   212,992.0\n",
       "4        PG-13   144,102.0\n",
       "5        TV-MA   141,516.0\n",
       "6          U/A   140,840.0\n",
       "7            G   134,312.0\n",
       "8           PG   101,581.0\n",
       "9       Passed    73,523.0\n",
       "10    Approved    71,680.0\n",
       "11     Unrated    66,803.0\n",
       "12          16    47,708.0\n",
       "13          GP    45,386.0\n",
       "14       TV-PG    34,376.0\n",
       "15       TV-14    33,935.0"
      ]
     },
     "execution_count": 64,
     "metadata": {},
     "output_type": "execute_result"
    }
   ],
   "source": [
    "# Group by Certificate\n",
    "certificate_rating = data.groupby(\"Certificate\").mean(numeric_only = True)[\"No_of_Votes\"].round().sort_values(ascending = False)\n",
    "\n",
    "# Convert the Series to a df\n",
    "certificate_rating_df = certificate_rating.reset_index()\n",
    "\n",
    "# Format the No of votes to be readable\n",
    "certificate_rating_df[\"No_of_Votes\"] = certificate_rating_df[\"No_of_Votes\"].apply(lambda x: f\"{x :,}\")\n",
    "\n",
    "# Display the df\n",
    "certificate_rating_df"
   ]
  },
  {
   "cell_type": "markdown",
   "id": "fa279e7c-5111-4549-974f-941c50e91bb6",
   "metadata": {},
   "source": [
    "### d. By Meta_score"
   ]
  },
  {
   "cell_type": "code",
   "execution_count": 66,
   "id": "be578fb9-e373-4085-8d96-296a14a23282",
   "metadata": {},
   "outputs": [
    {
     "data": {
      "text/html": [
       "<div>\n",
       "<style scoped>\n",
       "    .dataframe tbody tr th:only-of-type {\n",
       "        vertical-align: middle;\n",
       "    }\n",
       "\n",
       "    .dataframe tbody tr th {\n",
       "        vertical-align: top;\n",
       "    }\n",
       "\n",
       "    .dataframe thead th {\n",
       "        text-align: right;\n",
       "    }\n",
       "</style>\n",
       "<table border=\"1\" class=\"dataframe\">\n",
       "  <thead>\n",
       "    <tr style=\"text-align: right;\">\n",
       "      <th></th>\n",
       "      <th>Certificate</th>\n",
       "      <th>Meta_score</th>\n",
       "    </tr>\n",
       "  </thead>\n",
       "  <tbody>\n",
       "    <tr>\n",
       "      <th>0</th>\n",
       "      <td>Approved</td>\n",
       "      <td>88.000000</td>\n",
       "    </tr>\n",
       "    <tr>\n",
       "      <th>1</th>\n",
       "      <td>Passed</td>\n",
       "      <td>87.277778</td>\n",
       "    </tr>\n",
       "    <tr>\n",
       "      <th>2</th>\n",
       "      <td>TV-PG</td>\n",
       "      <td>86.666667</td>\n",
       "    </tr>\n",
       "    <tr>\n",
       "      <th>3</th>\n",
       "      <td>G</td>\n",
       "      <td>86.100000</td>\n",
       "    </tr>\n",
       "    <tr>\n",
       "      <th>4</th>\n",
       "      <td>PG</td>\n",
       "      <td>82.966667</td>\n",
       "    </tr>\n",
       "    <tr>\n",
       "      <th>5</th>\n",
       "      <td>U</td>\n",
       "      <td>78.721393</td>\n",
       "    </tr>\n",
       "    <tr>\n",
       "      <th>6</th>\n",
       "      <td>16</td>\n",
       "      <td>78.000000</td>\n",
       "    </tr>\n",
       "    <tr>\n",
       "      <th>7</th>\n",
       "      <td>A</td>\n",
       "      <td>77.951872</td>\n",
       "    </tr>\n",
       "    <tr>\n",
       "      <th>8</th>\n",
       "      <td>PG-13</td>\n",
       "      <td>76.095238</td>\n",
       "    </tr>\n",
       "    <tr>\n",
       "      <th>9</th>\n",
       "      <td>UA</td>\n",
       "      <td>75.206897</td>\n",
       "    </tr>\n",
       "    <tr>\n",
       "      <th>10</th>\n",
       "      <td>R</td>\n",
       "      <td>74.565217</td>\n",
       "    </tr>\n",
       "    <tr>\n",
       "      <th>11</th>\n",
       "      <td>U/A</td>\n",
       "      <td>71.000000</td>\n",
       "    </tr>\n",
       "    <tr>\n",
       "      <th>12</th>\n",
       "      <td>GP</td>\n",
       "      <td>50.000000</td>\n",
       "    </tr>\n",
       "  </tbody>\n",
       "</table>\n",
       "</div>"
      ],
      "text/plain": [
       "   Certificate  Meta_score\n",
       "0     Approved   88.000000\n",
       "1       Passed   87.277778\n",
       "2        TV-PG   86.666667\n",
       "3            G   86.100000\n",
       "4           PG   82.966667\n",
       "5            U   78.721393\n",
       "6           16   78.000000\n",
       "7            A   77.951872\n",
       "8        PG-13   76.095238\n",
       "9           UA   75.206897\n",
       "10           R   74.565217\n",
       "11         U/A   71.000000\n",
       "12          GP   50.000000"
      ]
     },
     "execution_count": 66,
     "metadata": {},
     "output_type": "execute_result"
    }
   ],
   "source": [
    "# Group by Certificate\n",
    "certificate_score = data.groupby(\"Certificate\").mean(numeric_only = True)[\"Meta_score\"].sort_values(ascending = False)\n",
    "\n",
    "# Convert the Series to a df\n",
    "certificate_score_df = certificate_score.reset_index()\n",
    "\n",
    "# Drop the null values\n",
    "certificate_score_df = certificate_score_df.dropna()\n",
    "\n",
    "# Display the df\n",
    "certificate_score_df"
   ]
  },
  {
   "cell_type": "markdown",
   "id": "960b6621-22e6-4a88-8464-ff57c3b10684",
   "metadata": {},
   "source": [
    "### e. By Runtime"
   ]
  },
  {
   "cell_type": "code",
   "execution_count": 67,
   "id": "e523c723-2aee-475e-abd2-8bedd00cb4ce",
   "metadata": {},
   "outputs": [
    {
     "data": {
      "text/html": [
       "<div>\n",
       "<style scoped>\n",
       "    .dataframe tbody tr th:only-of-type {\n",
       "        vertical-align: middle;\n",
       "    }\n",
       "\n",
       "    .dataframe tbody tr th {\n",
       "        vertical-align: top;\n",
       "    }\n",
       "\n",
       "    .dataframe thead th {\n",
       "        text-align: right;\n",
       "    }\n",
       "</style>\n",
       "<table border=\"1\" class=\"dataframe\">\n",
       "  <thead>\n",
       "    <tr style=\"text-align: right;\">\n",
       "      <th></th>\n",
       "      <th>Certificate</th>\n",
       "      <th>Runtime</th>\n",
       "    </tr>\n",
       "  </thead>\n",
       "  <tbody>\n",
       "    <tr>\n",
       "      <th>0</th>\n",
       "      <td>Unrated</td>\n",
       "      <td>183.000000</td>\n",
       "    </tr>\n",
       "    <tr>\n",
       "      <th>1</th>\n",
       "      <td>TV-14</td>\n",
       "      <td>132.000000</td>\n",
       "    </tr>\n",
       "    <tr>\n",
       "      <th>2</th>\n",
       "      <td>16</td>\n",
       "      <td>130.000000</td>\n",
       "    </tr>\n",
       "    <tr>\n",
       "      <th>3</th>\n",
       "      <td>UA</td>\n",
       "      <td>129.331429</td>\n",
       "    </tr>\n",
       "    <tr>\n",
       "      <th>4</th>\n",
       "      <td>A</td>\n",
       "      <td>128.939086</td>\n",
       "    </tr>\n",
       "    <tr>\n",
       "      <th>5</th>\n",
       "      <td>GP</td>\n",
       "      <td>124.500000</td>\n",
       "    </tr>\n",
       "    <tr>\n",
       "      <th>6</th>\n",
       "      <td>U</td>\n",
       "      <td>124.090129</td>\n",
       "    </tr>\n",
       "    <tr>\n",
       "      <th>7</th>\n",
       "      <td>R</td>\n",
       "      <td>122.369863</td>\n",
       "    </tr>\n",
       "    <tr>\n",
       "      <th>8</th>\n",
       "      <td>G</td>\n",
       "      <td>119.666667</td>\n",
       "    </tr>\n",
       "    <tr>\n",
       "      <th>9</th>\n",
       "      <td>PG-13</td>\n",
       "      <td>116.953488</td>\n",
       "    </tr>\n",
       "    <tr>\n",
       "      <th>10</th>\n",
       "      <td>PG</td>\n",
       "      <td>114.270270</td>\n",
       "    </tr>\n",
       "    <tr>\n",
       "      <th>11</th>\n",
       "      <td>Approved</td>\n",
       "      <td>111.090909</td>\n",
       "    </tr>\n",
       "    <tr>\n",
       "      <th>12</th>\n",
       "      <td>Passed</td>\n",
       "      <td>106.205882</td>\n",
       "    </tr>\n",
       "    <tr>\n",
       "      <th>13</th>\n",
       "      <td>TV-MA</td>\n",
       "      <td>106.000000</td>\n",
       "    </tr>\n",
       "    <tr>\n",
       "      <th>14</th>\n",
       "      <td>U/A</td>\n",
       "      <td>102.000000</td>\n",
       "    </tr>\n",
       "    <tr>\n",
       "      <th>15</th>\n",
       "      <td>TV-PG</td>\n",
       "      <td>93.666667</td>\n",
       "    </tr>\n",
       "  </tbody>\n",
       "</table>\n",
       "</div>"
      ],
      "text/plain": [
       "   Certificate     Runtime\n",
       "0      Unrated  183.000000\n",
       "1        TV-14  132.000000\n",
       "2           16  130.000000\n",
       "3           UA  129.331429\n",
       "4            A  128.939086\n",
       "5           GP  124.500000\n",
       "6            U  124.090129\n",
       "7            R  122.369863\n",
       "8            G  119.666667\n",
       "9        PG-13  116.953488\n",
       "10          PG  114.270270\n",
       "11    Approved  111.090909\n",
       "12      Passed  106.205882\n",
       "13       TV-MA  106.000000\n",
       "14         U/A  102.000000\n",
       "15       TV-PG   93.666667"
      ]
     },
     "execution_count": 67,
     "metadata": {},
     "output_type": "execute_result"
    }
   ],
   "source": [
    "# Group by Certificate\n",
    "certificate_runtime = data.groupby(\"Certificate\").mean(numeric_only = True)[\"Runtime\"].sort_values(ascending = False)\n",
    "\n",
    "# Convert the Series to a df\n",
    "certificate_runtime_df = certificate_runtime.reset_index()\n",
    "\n",
    "# Drop the null values\n",
    "certificate_runtime_df = certificate_runtime_df.dropna()\n",
    "\n",
    "# Display the df\n",
    "certificate_runtime_df"
   ]
  },
  {
   "cell_type": "markdown",
   "id": "a36fef83-1ec9-430e-a8f1-425647ad87e0",
   "metadata": {},
   "source": [
    "## Time Analysis"
   ]
  },
  {
   "cell_type": "markdown",
   "id": "396df209-89da-4405-af6f-8fc979a72c04",
   "metadata": {},
   "source": [
    "### a. Series Release Trend"
   ]
  },
  {
   "cell_type": "code",
   "execution_count": 87,
   "id": "003fd2ac-b7a7-4dd5-97be-ec8d62533c7c",
   "metadata": {},
   "outputs": [
    {
     "data": {
      "image/png": "[encoded data removed]",
      "text/plain": [
       "<Figure size 1000x600 with 1 Axes>"
      ]
     },
     "metadata": {},
     "output_type": "display_data"
    }
   ],
   "source": [
    "# Create a new figure for plotting\n",
    "plt.figure(figsize = (10,6))\n",
    "\n",
    "# Get the count of movies for each year\n",
    "released_year = data.groupby(\"Released_Year\").count()[\"Series_Title\"]\n",
    "\n",
    "# Create x and y and plot\n",
    "x = released_year.index\n",
    "y = released_year.values\n",
    "plt.plot(x, y)\n",
    "\n",
    "# Add labels\n",
    "plt.xlabel(\"Year\")\n",
    "plt.ylabel(\"Count\")\n",
    "\n",
    "# Display the plot\n",
    "plt.show()"
   ]
  },
  {
   "cell_type": "markdown",
   "id": "f49199e4-cf65-4510-ad30-0014db8ceb69",
   "metadata": {},
   "source": [
    "### b. Avg Gross Trend"
   ]
  },
  {
   "cell_type": "code",
   "execution_count": 17,
   "id": "a1a52226-ff7e-49cc-a6ab-78d634469942",
   "metadata": {},
   "outputs": [
    {
     "data": {
      "image/png": "[encoded data removed]",
      "text/plain": [
       "<Figure size 1000x600 with 1 Axes>"
      ]
     },
     "metadata": {},
     "output_type": "display_data"
    }
   ],
   "source": [
    "# Create a new figure for plotting\n",
    "plt.figure(figsize = (10,6))\n",
    "\n",
    "# Get the avg gross for each year\n",
    "gross_year = data.groupby(\"Released_Year\").mean(numeric_only = True)[\"Gross\"]\n",
    "\n",
    "# Create x and y and plot\n",
    "x = gross_year.index\n",
    "y = gross_year.values\n",
    "plt.plot(x, y)\n",
    "\n",
    "# Add labels\n",
    "plt.xlabel(\"Year\")\n",
    "plt.ylabel(\"Avg Gross\")\n",
    "\n",
    "# Display the plot\n",
    "plt.show()"
   ]
  },
  {
   "cell_type": "markdown",
   "id": "e3471a13-eca4-48d9-8f31-268c869d7274",
   "metadata": {},
   "source": [
    "### c. Rating trend"
   ]
  },
  {
   "cell_type": "code",
   "execution_count": 18,
   "id": "f8486a51-1aab-4257-afd8-61a0100fbb30",
   "metadata": {},
   "outputs": [
    {
     "data": {
      "image/png": "[encoded data removed]",
      "text/plain": [
       "<Figure size 1000x600 with 1 Axes>"
      ]
     },
     "metadata": {},
     "output_type": "display_data"
    }
   ],
   "source": [
    "# Create a new figure for plotting\n",
    "plt.figure(figsize = (10,6))\n",
    "\n",
    "# Get the avg rating for each year\n",
    "rating_year = data.groupby(\"Released_Year\").mean(numeric_only = True)[\"IMDB_Rating\"]\n",
    "\n",
    "# Create x and y and plot\n",
    "x = rating_year.index\n",
    "y = rating_year.values\n",
    "plt.plot(x, y)\n",
    "\n",
    "# Add labels\n",
    "plt.xlabel(\"Year\")\n",
    "plt.ylabel(\"Avg Rating\")\n",
    "\n",
    "# Display the plot\n",
    "plt.show()"
   ]
  },
  {
   "cell_type": "markdown",
   "id": "5d6ae685-f807-464d-808c-cafc488a85e0",
   "metadata": {},
   "source": [
    "### d.Meta score trend"
   ]
  },
  {
   "cell_type": "code",
   "execution_count": 20,
   "id": "afbc23fe-c37f-4793-b1ab-273381199955",
   "metadata": {},
   "outputs": [
    {
     "data": {
      "image/png": "[encoded data removed]",
      "text/plain": [
       "<Figure size 1000x600 with 1 Axes>"
      ]
     },
     "metadata": {},
     "output_type": "display_data"
    }
   ],
   "source": [
    "# Create a new figure for plotting\n",
    "plt.figure(figsize = (10,6))\n",
    "\n",
    "# Get the avg Meta_score for each year\n",
    "score_year = data.groupby(\"Released_Year\").mean(numeric_only = True)[\"Meta_score\"]\n",
    "\n",
    "# Create x and y and plot\n",
    "x = score_year.index\n",
    "y = score_year.values\n",
    "plt.plot(x, y)\n",
    "\n",
    "# Add labels\n",
    "plt.xlabel(\"Year\")\n",
    "plt.ylabel(\"Avg Score\")\n",
    "\n",
    "# Display the plot\n",
    "plt.show()"
   ]
  },
  {
   "cell_type": "markdown",
   "id": "bb5c4a21-cd99-4a25-9de3-09dfefda384f",
   "metadata": {},
   "source": [
    "### e. No of Votes Trend"
   ]
  },
  {
   "cell_type": "code",
   "execution_count": 21,
   "id": "631aaa85-dae4-440b-be23-6b73b6c0ff87",
   "metadata": {},
   "outputs": [
    {
     "data": {
      "image/png": "[encoded data removed]",
      "text/plain": [
       "<Figure size 1000x600 with 1 Axes>"
      ]
     },
     "metadata": {},
     "output_type": "display_data"
    }
   ],
   "source": [
    "# Create a new figure for plotting\n",
    "plt.figure(figsize = (10,6))\n",
    "\n",
    "# Get the sum of votes for each year\n",
    "votes_year = data.groupby(\"Released_Year\").sum()[\"Meta_score\"]\n",
    "\n",
    "# Create x and y and plot\n",
    "x = votes_year.index\n",
    "y = votes_year.values\n",
    "plt.plot(x, y)\n",
    "\n",
    "# Add labels\n",
    "plt.xlabel(\"Year\")\n",
    "plt.ylabel(\"Sum of Votes\")\n",
    "\n",
    "# Display the plot\n",
    "plt.show()"
   ]
  },
  {
   "cell_type": "markdown",
   "id": "25dbcecc-632d-4fc3-8f67-276754b5e638",
   "metadata": {},
   "source": [
    "## More Analysis"
   ]
  },
  {
   "cell_type": "markdown",
   "id": "2905356d-fd5a-4b74-8324-918f876473c9",
   "metadata": {},
   "source": [
    "### a. Correlation matrix"
   ]
  },
  {
   "cell_type": "code",
   "execution_count": 70,
   "id": "d6d3e605-81cd-4aed-8c2a-d2dd1bc2c883",
   "metadata": {},
   "outputs": [
    {
     "data": {
      "text/html": [
       "<div>\n",
       "<style scoped>\n",
       "    .dataframe tbody tr th:only-of-type {\n",
       "        vertical-align: middle;\n",
       "    }\n",
       "\n",
       "    .dataframe tbody tr th {\n",
       "        vertical-align: top;\n",
       "    }\n",
       "\n",
       "    .dataframe thead th {\n",
       "        text-align: right;\n",
       "    }\n",
       "</style>\n",
       "<table border=\"1\" class=\"dataframe\">\n",
       "  <thead>\n",
       "    <tr style=\"text-align: right;\">\n",
       "      <th></th>\n",
       "      <th>Released_Year</th>\n",
       "      <th>Runtime</th>\n",
       "      <th>IMDB_Rating</th>\n",
       "      <th>Meta_score</th>\n",
       "      <th>No_of_Votes</th>\n",
       "      <th>Gross</th>\n",
       "    </tr>\n",
       "  </thead>\n",
       "  <tbody>\n",
       "    <tr>\n",
       "      <th>Released_Year</th>\n",
       "      <td>1.000000</td>\n",
       "      <td>0.165807</td>\n",
       "      <td>-0.131053</td>\n",
       "      <td>-0.339272</td>\n",
       "      <td>0.241785</td>\n",
       "      <td>0.233250</td>\n",
       "    </tr>\n",
       "    <tr>\n",
       "      <th>Runtime</th>\n",
       "      <td>0.165807</td>\n",
       "      <td>1.000000</td>\n",
       "      <td>0.244112</td>\n",
       "      <td>-0.031399</td>\n",
       "      <td>0.173304</td>\n",
       "      <td>0.139104</td>\n",
       "    </tr>\n",
       "    <tr>\n",
       "      <th>IMDB_Rating</th>\n",
       "      <td>-0.131053</td>\n",
       "      <td>0.244112</td>\n",
       "      <td>1.000000</td>\n",
       "      <td>0.268641</td>\n",
       "      <td>0.495361</td>\n",
       "      <td>0.097490</td>\n",
       "    </tr>\n",
       "    <tr>\n",
       "      <th>Meta_score</th>\n",
       "      <td>-0.339272</td>\n",
       "      <td>-0.031399</td>\n",
       "      <td>0.268641</td>\n",
       "      <td>1.000000</td>\n",
       "      <td>-0.018519</td>\n",
       "      <td>-0.030560</td>\n",
       "    </tr>\n",
       "    <tr>\n",
       "      <th>No_of_Votes</th>\n",
       "      <td>0.241785</td>\n",
       "      <td>0.173304</td>\n",
       "      <td>0.495361</td>\n",
       "      <td>-0.018519</td>\n",
       "      <td>1.000000</td>\n",
       "      <td>0.574877</td>\n",
       "    </tr>\n",
       "    <tr>\n",
       "      <th>Gross</th>\n",
       "      <td>0.233250</td>\n",
       "      <td>0.139104</td>\n",
       "      <td>0.097490</td>\n",
       "      <td>-0.030560</td>\n",
       "      <td>0.574877</td>\n",
       "      <td>1.000000</td>\n",
       "    </tr>\n",
       "  </tbody>\n",
       "</table>\n",
       "</div>"
      ],
      "text/plain": [
       "               Released_Year   Runtime  IMDB_Rating  Meta_score  No_of_Votes  \\\n",
       "Released_Year       1.000000  0.165807    -0.131053   -0.339272     0.241785   \n",
       "Runtime             0.165807  1.000000     0.244112   -0.031399     0.173304   \n",
       "IMDB_Rating        -0.131053  0.244112     1.000000    0.268641     0.495361   \n",
       "Meta_score         -0.339272 -0.031399     0.268641    1.000000    -0.018519   \n",
       "No_of_Votes         0.241785  0.173304     0.495361   -0.018519     1.000000   \n",
       "Gross               0.233250  0.139104     0.097490   -0.030560     0.574877   \n",
       "\n",
       "                  Gross  \n",
       "Released_Year  0.233250  \n",
       "Runtime        0.139104  \n",
       "IMDB_Rating    0.097490  \n",
       "Meta_score    -0.030560  \n",
       "No_of_Votes    0.574877  \n",
       "Gross          1.000000  "
      ]
     },
     "execution_count": 70,
     "metadata": {},
     "output_type": "execute_result"
    }
   ],
   "source": [
    "# Include only numeric data\n",
    "numeric_data = data.select_dtypes(include = ['float', 'int'])\n",
    "\n",
    "# Create  a correlation matrix\n",
    "corr_matrix = numeric_data.corr()\n",
    "\n",
    "# Display the correlation matrix\n",
    "corr_matrix"
   ]
  },
  {
   "cell_type": "markdown",
   "id": "f09c9a27-2e49-42a6-9b40-8ecdda059336",
   "metadata": {},
   "source": [
    "### b. Heat map"
   ]
  },
  {
   "cell_type": "code",
   "execution_count": 72,
   "id": "22a732aa-08d9-464e-81bd-483611ab11f7",
   "metadata": {},
   "outputs": [
    {
     "data": {
      "image/png": "[encoded data removed]",
      "text/plain": [
       "<Figure size 1000x600 with 2 Axes>"
      ]
     },
     "metadata": {},
     "output_type": "display_data"
    }
   ],
   "source": [
    "# Create a new figure with size 10*6 inches\n",
    "plt.figure(figsize = (10,6))\n",
    "# Plot the correlation heat map\n",
    "sns.heatmap(corr_matrix, annot = True, cmap = 'coolwarm', fmt = '.2f', linewidths = 0.5)\n",
    "# Add a title\n",
    "plt.title('Correlation Heatmap')\n",
    "# Plot the heat map\n",
    "plt.show()"
   ]
  }
 ],
 "metadata": {
  "kernelspec": {
   "display_name": "Python 3 (ipykernel)",
   "language": "python",
   "name": "python3"
  },
  "language_info": {
   "codemirror_mode": {
    "name": "ipython",
    "version": 3
   },
   "file_extension": ".py",
   "mimetype": "text/x-python",
   "name": "python",
   "nbconvert_exporter": "python",
   "pygments_lexer": "ipython3",
   "version": "3.11.5"
  }
 },
 "nbformat": 4,
 "nbformat_minor": 5
}
